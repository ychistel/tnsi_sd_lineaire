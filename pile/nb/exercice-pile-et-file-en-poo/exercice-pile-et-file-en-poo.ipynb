{
 "cells": [
  {
   "cell_type": "code",
   "execution_count": 5,
   "metadata": {},
   "outputs": [],
   "source": [
    "from pile import *\n",
    "from random import randint"
   ]
  },
  {
   "cell_type": "code",
   "execution_count": 43,
   "metadata": {},
   "outputs": [],
   "source": [
    "P = creer_pile()"
   ]
  },
  {
   "cell_type": "code",
   "execution_count": 44,
   "metadata": {},
   "outputs": [
    {
     "data": {
      "text/plain": [
       "True"
      ]
     },
     "execution_count": 44,
     "metadata": {},
     "output_type": "execute_result"
    }
   ],
   "source": [
    "P.est_vide()"
   ]
  },
  {
   "cell_type": "code",
   "execution_count": 45,
   "metadata": {},
   "outputs": [
    {
     "name": "stdout",
     "output_type": "stream",
     "text": [
      "[\n"
     ]
    }
   ],
   "source": [
    "print(P)"
   ]
  },
  {
   "cell_type": "code",
   "execution_count": 46,
   "metadata": {},
   "outputs": [
    {
     "name": "stdout",
     "output_type": "stream",
     "text": [
      "[ 5 [ 12 [ 6 [ 11 [ 16 [ 12 [ 4 [ 20 [ 10\n"
     ]
    }
   ],
   "source": [
    "# nombre de valeurs dans la pile\n",
    "n = randint(5,10)\n",
    "for i in range(n):\n",
    "    P.empiler(randint(1,20))\n",
    "print(P)"
   ]
  },
  {
   "cell_type": "code",
   "execution_count": 39,
   "metadata": {},
   "outputs": [
    {
     "name": "stdout",
     "output_type": "stream",
     "text": [
      "[ 1 [ 18 [ 19 [ 16 [ 4 [ 12 [ 19 [ 7\n"
     ]
    }
   ],
   "source": [
    "P.empiler(19)\n",
    "P.empiler(7)\n",
    "print(P)"
   ]
  },
  {
   "cell_type": "code",
   "execution_count": 29,
   "metadata": {},
   "outputs": [
    {
     "data": {
      "text/plain": [
       "7"
      ]
     },
     "execution_count": 29,
     "metadata": {},
     "output_type": "execute_result"
    }
   ],
   "source": [
    "def hauteur(pile):\n",
    "    h = 0\n",
    "    tmp = creer_pile()\n",
    "    while not pile.est_vide():\n",
    "        tmp.empiler(pile.depiler())\n",
    "        h += 1\n",
    "    while not tmp.est_vide():\n",
    "        pile.empiler(tmp.depiler())\n",
    "    return h\n",
    "\n",
    "hauteur(P)"
   ]
  },
  {
   "cell_type": "code",
   "execution_count": 30,
   "metadata": {},
   "outputs": [
    {
     "name": "stdout",
     "output_type": "stream",
     "text": [
      "[ 13 [ 20 [ 6 [ 7 [ 13 [ 8 [ 14\n"
     ]
    }
   ],
   "source": [
    "print(P)"
   ]
  },
  {
   "cell_type": "code",
   "execution_count": 47,
   "metadata": {},
   "outputs": [
    {
     "data": {
      "text/plain": [
       "20"
      ]
     },
     "execution_count": 47,
     "metadata": {},
     "output_type": "execute_result"
    }
   ],
   "source": [
    "# m est le maximum de la pile\n",
    "\n",
    "def maximum(pile):\n",
    "    tmp = creer_pile()\n",
    "    # on cherche le max de la pile\n",
    "    if not pile.est_vide():\n",
    "        m = pile.depiler()\n",
    "        tmp.empiler(m)\n",
    "        while not pile.est_vide():\n",
    "            x = pile.depiler()\n",
    "            tmp.empiler(x)\n",
    "            if x > m:\n",
    "                m = x\n",
    "        while not tmp.est_vide():\n",
    "            pile.empiler(tmp.depiler())\n",
    "\n",
    "        # supprimer la première occurence du max dans la pile\n",
    "        while not pile.est_vide():\n",
    "            x = pile.depiler()\n",
    "            if x != m:\n",
    "                tmp.empiler(x)\n",
    "            else:\n",
    "                break\n",
    "        while not tmp.est_vide():\n",
    "                pile.empiler(tmp.depiler())\n",
    "\n",
    "        return m\n",
    "\n",
    "maximum(P)"
   ]
  },
  {
   "cell_type": "code",
   "execution_count": 48,
   "metadata": {},
   "outputs": [
    {
     "data": {
      "text/plain": [
       "[ 5 [ 12 [ 6 [ 11 [ 16 [ 12 [ 4 [ 10"
      ]
     },
     "execution_count": 48,
     "metadata": {},
     "output_type": "execute_result"
    }
   ],
   "source": [
    "P"
   ]
  },
  {
   "cell_type": "code",
   "execution_count": null,
   "metadata": {},
   "outputs": [],
   "source": []
  }
 ],
 "metadata": {
  "kernelspec": {
   "display_name": "Python 3",
   "language": "python",
   "name": "python3"
  }
 },
 "nbformat": 4,
 "nbformat_minor": 2
}
