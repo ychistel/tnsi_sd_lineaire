{
 "cells": [
  {
   "cell_type": "code",
   "execution_count": 1,
   "metadata": {},
   "outputs": [],
   "source": [
    "from pile import creer_pile"
   ]
  },
  {
   "cell_type": "code",
   "execution_count": 36,
   "metadata": {},
   "outputs": [
    {
     "name": "stdout",
     "output_type": "stream",
     "text": [
      " 4 ] 2 ] 5 ] 8 ]\n"
     ]
    }
   ],
   "source": [
    "P=creer_pile()\n",
    "P.est_vide()\n",
    "P.empiler(8)\n",
    "P.empiler(5)\n",
    "P.empiler(2)\n",
    "P.empiler(4)\n",
    "\n",
    "print(P)"
   ]
  },
  {
   "cell_type": "code",
   "execution_count": 37,
   "metadata": {},
   "outputs": [],
   "source": [
    "def hauteur_pile(P):\n",
    "    Q=creer_pile()\n",
    "    n=0\n",
    "    while not P.est_vide():\n",
    "        n+=1\n",
    "        x=P.depiler()\n",
    "        Q.empiler(x)\n",
    "    while not Q.est_vide():\n",
    "        x=Q.depiler()\n",
    "        P.empiler(x)\n",
    "    return n"
   ]
  },
  {
   "cell_type": "code",
   "execution_count": 38,
   "metadata": {},
   "outputs": [
    {
     "data": {},
     "execution_count": 38,
     "metadata": {},
     "output_type": "execute_result"
    }
   ],
   "source": [
    "hauteur_pile(P)"
   ]
  },
  {
   "cell_type": "code",
   "execution_count": 84,
   "metadata": {},
   "outputs": [],
   "source": [
    "def max_pile(P,i):\n",
    "   \n",
    "    Q = creer_pile()\n",
    "    valeur_max = P.depiler()\n",
    "    Q.empiler(valeur_max)\n",
    "    position_max = 1\n",
    "\n",
    "    for k in range(2,i+1):\n",
    "        x = P.depiler()\n",
    "        Q.empiler(x)\n",
    "        if x > valeur_max:\n",
    "            valeur_max = x\n",
    "            position_max = k\n",
    "    while not Q.est_vide():\n",
    "        P.empiler(Q.depiler())\n",
    "    return position_max"
   ]
  },
  {
   "cell_type": "code",
   "execution_count": 85,
   "metadata": {},
   "outputs": [
    {
     "data": {},
     "execution_count": 85,
     "metadata": {},
     "output_type": "execute_result"
    }
   ],
   "source": [
    "max_pile(P,2)"
   ]
  },
  {
   "cell_type": "code",
   "execution_count": 86,
   "metadata": {},
   "outputs": [],
   "source": [
    "def retourner(P,j):\n",
    "    Q=creer_pile()\n",
    "    T=creer_pile()\n",
    "    \n",
    "    while j > 0 and not P.est_vide():\n",
    "        Q.empiler(P.depiler())\n",
    "        j-=1\n",
    "    while not Q.est_vide():\n",
    "        T.empiler(Q.depiler())\n",
    "    while not T.est_vide():\n",
    "        P.empiler(T.depiler())"
   ]
  },
  {
   "cell_type": "code",
   "execution_count": 88,
   "metadata": {},
   "outputs": [
    {
     "name": "stdout",
     "output_type": "stream",
     "text": [
      " 5 ] 4 ] 3 ] 1 ] 2 ] 6 ] 7 ] 8 ] 9 ]\n"
     ]
    }
   ],
   "source": [
    "retourner(P,5)\n",
    "print(P)"
   ]
  },
  {
   "cell_type": "code",
   "execution_count": 96,
   "metadata": {},
   "outputs": [],
   "source": [
    "def tri_crepes(P):\n",
    "    h=hauteur_pile(P)\n",
    "    while h > 1:\n",
    "        j=max_pile(P,h)\n",
    "        retourner(P,j)\n",
    "        retourner(P,h)\n",
    "        h -= 1"
   ]
  },
  {
   "cell_type": "code",
   "execution_count": 111,
   "metadata": {},
   "outputs": [],
   "source": [
    "def tri_crepes(P):\n",
    "    hauteur=hauteur_pile(P)\n",
    "    for i in range(hauteur):\n",
    "        j=max_pile(P,hauteur - i)\n",
    "        retourner(P,j)\n",
    "        retourner(P,hauteur - i)"
   ]
  },
  {
   "cell_type": "code",
   "execution_count": 112,
   "metadata": {},
   "outputs": [
    {
     "name": "stdout",
     "output_type": "stream",
     "text": [
      " 6 ] 3 ] 1 ] 9 ] 7 ] 4 ] 2 ] 8 ] 5 ]\n"
     ]
    }
   ],
   "source": [
    "P=creer_pile()\n",
    "P.empiler(5)\n",
    "P.empiler(8)\n",
    "P.empiler(2)\n",
    "P.empiler(4)\n",
    "P.empiler(7)\n",
    "P.empiler(9)\n",
    "P.empiler(1)\n",
    "P.empiler(3)\n",
    "P.empiler(6)\n",
    "print(P)"
   ]
  },
  {
   "cell_type": "code",
   "execution_count": 113,
   "metadata": {},
   "outputs": [
    {
     "name": "stdout",
     "output_type": "stream",
     "text": [
      " 6 ] 3 ] 1 ] 9 ] 7 ] 4 ] 2 ] 8 ] 5 ]\n",
      " 1 ] 2 ] 3 ] 4 ] 5 ] 6 ] 7 ] 8 ] 9 ]\n"
     ]
    }
   ],
   "source": [
    "print(P)\n",
    "tri_crepes(P)\n",
    "print(P)"
   ]
  },
  {
   "cell_type": "code",
   "execution_count": null,
   "metadata": {},
   "outputs": [],
   "source": []
  }
 ],
 "metadata": {
  "kernelspec": {
   "display_name": "Python 3",
   "language": "python",
   "name": "python3"
  },
  "language_info": {
   "codemirror_mode": {
    "name": "ipython",
    "version": 3
   },
   "file_extension": ".py",
   "mimetype": "text/x-python",
   "name": "python",
   "nbconvert_exporter": "python",
   "pygments_lexer": "ipython3",
   "version": "3.9.4"
  }
 },
 "nbformat": 4,
 "nbformat_minor": 2
}
