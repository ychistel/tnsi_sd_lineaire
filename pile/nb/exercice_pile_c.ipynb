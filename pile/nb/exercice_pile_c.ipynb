{
 "cells": [
  {
   "cell_type": "markdown",
   "id": "00c05667",
   "metadata": {},
   "source": [
    "# Exercice\n",
    "\n",
    "On considère une pile **P** telle que :\n",
    "\n",
    "- elle contient dans cet ordre les nombres entiers 17, 9, 12 et 8; \n",
    "- le nombre 17 est le sommet de la pile.\n",
    "\n",
    "1. Représenter cette pile **P** par un schéma.\n",
    "2. Écrire, à l'aide des primitives de l'interface, la suite d'instructions qui permet de créer la pile **P**.\n",
    "3. On dépile deux fois la pile **P**. Écrire les instructions et donner son contenu.\n",
    "4. On empile la valeur 31. Écrire l'instruction donner le contenu de la pile **P** ? \n",
    "5. Écrire un algorithme qui dépile la pile **P** tant qu'elle n'est pas vide.\n"
   ]
  },
  {
   "cell_type": "markdown",
   "id": "ae787d22",
   "metadata": {},
   "source": [
    "#### Instructions Python"
   ]
  },
  {
   "cell_type": "code",
   "execution_count": 9,
   "id": "3ba95a49",
   "metadata": {},
   "outputs": [
    {
     "name": "stdout",
     "output_type": "stream",
     "text": [
      "On a créé une pile vide []\n",
      "On empile 8, 12, 9 et 17\n",
      "La pile contient : [8, 12, 9, 17]\n",
      "On a dépiler le sommet 17\n",
      "On a dépiler le sommet 9\n",
      "La pile contient: [8, 12]\n",
      "On empile 31\n",
      "La pile contient: [8, 12, 31]\n",
      "On vide la pile!\n",
      "La pile est vide: []\n"
     ]
    }
   ],
   "source": [
    "# On recrée la structure de pile avec des listes\n",
    "\n",
    "def creer_pile():\n",
    "    return list()\n",
    "\n",
    "def est_vide(pile):\n",
    "    return pile == []\n",
    "\n",
    "def empiler(pile,elt):\n",
    "    pile.append(elt)\n",
    "    return pile\n",
    "\n",
    "def depiler(pile):\n",
    "    sommet = pile.pop()\n",
    "    return sommet\n",
    "\n",
    "\n",
    "P = creer_pile()\n",
    "print(\"On a créé une pile vide\",P)\n",
    "print(\"On empile 8, 12, 9 et 17\")\n",
    "P = empiler(P,8)\n",
    "P = empiler(P,12)\n",
    "P = empiler(P,9)\n",
    "P = empiler(P,17)\n",
    "print(\"La pile contient :\",P)\n",
    "s = depiler(P)\n",
    "print(\"On a dépiler le sommet\",s)\n",
    "s = depiler(P)\n",
    "print(\"On a dépiler le sommet\",s)\n",
    "print(\"La pile contient:\",P)\n",
    "print(\"On empile 31\")\n",
    "P = empiler(P,31)\n",
    "print(\"La pile contient:\",P)\n",
    "print(\"On vide la pile!\")\n",
    "while not est_vide(P):\n",
    "    depiler(P)\n",
    "print(\"La pile est vide:\",P)"
   ]
  },
  {
   "cell_type": "code",
   "execution_count": null,
   "id": "c2f156ba",
   "metadata": {},
   "outputs": [],
   "source": []
  }
 ],
 "metadata": {
  "kernelspec": {
   "display_name": "Python 3",
   "language": "python",
   "name": "python3"
  },
  "language_info": {
   "codemirror_mode": {
    "name": "ipython",
    "version": 3
   },
   "file_extension": ".py",
   "mimetype": "text/x-python",
   "name": "python",
   "nbconvert_exporter": "python",
   "pygments_lexer": "ipython3",
   "version": "3.9.4"
  }
 },
 "nbformat": 4,
 "nbformat_minor": 5
}
