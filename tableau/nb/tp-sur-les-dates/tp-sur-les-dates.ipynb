{
 "cells": [
  {
   "cell_type": "code",
   "execution_count": 1,
   "metadata": {},
   "outputs": [],
   "source": [
    "# tuple de trois entiers (jour,mois,année)\n",
    "\n",
    "d = (7,7,2007) # pour le 7 juillet 2007\n",
    "\n",
    "def est_vide(d):\n",
    "    return d == ()\n",
    "\n",
    "def est_valide(d):\n",
    "    j,m,a = d\n",
    "    return (1 <= j <= 31) and (1 <= m <= 12) and (2000 <= a <= 2100)\n",
    "\n",
    "def egales(d1,d2):\n",
    "    assert est_valide(d1),\"la date non valide\"\n",
    "    assert est_valide(d2),\"la date non valide\"\n",
    "    j1,m1,a1 = d1\n",
    "    j2,m2,a2 = d2\n",
    "    return j1 == j2 and m1 == m2 and a1 == a2\n",
    "\n",
    "def est_avant(d1,d2):\n",
    "    j1,m1,a1 = d1\n",
    "    j2,m2,a2 = d2\n",
    "    if a1 < a2:\n",
    "        return True\n",
    "    elif a1 > a2:\n",
    "        return False\n",
    "    else:\n",
    "        if m1 < m2:\n",
    "            return True\n",
    "        elif m1 > m2:\n",
    "            return False\n",
    "        else:\n",
    "            if j1 < j2:\n",
    "                return True\n",
    "            elif j1 > j2:\n",
    "                return False\n",
    "            \n",
    "def affiche(d):\n",
    "    j,m,a = d\n",
    "    mois = ['janvier','février','mars','avril','mai','juin','juillet','août',\\\n",
    "            'septembre','octobre','novembre','décembre'\n",
    "           ]\n",
    "    #print(\"%s %s %s\" % (j,mois[m-1],a))\n",
    "    print(j,mois[m-1],a)"
   ]
  },
  {
   "cell_type": "code",
   "execution_count": 2,
   "metadata": {},
   "outputs": [
    {
     "data": {
      "text/plain": [
       "True"
      ]
     },
     "execution_count": 2,
     "metadata": {},
     "output_type": "execute_result"
    }
   ],
   "source": [
    "d1 = (7,9,2007) # 7 septembre 2007\n",
    "d2 = (5,8,2007) # 5 août 2007\n",
    "\n",
    "est_valide(d1)"
   ]
  },
  {
   "cell_type": "code",
   "execution_count": 25,
   "metadata": {},
   "outputs": [
    {
     "name": "stderr",
     "output_type": "stream",
     "text": [
      "Traceback (most recent call last):\n",
      "  File \"<input>\", line 1, in <module>\n",
      "  File \"<input>\", line 13, in egales\n",
      "AssertionError: la date non valide\n"
     ]
    }
   ],
   "source": [
    "egales(d1,d2)"
   ]
  },
  {
   "cell_type": "code",
   "execution_count": 16,
   "metadata": {},
   "outputs": [
    {
     "data": {
      "text/plain": [
       "True"
      ]
     },
     "execution_count": 16,
     "metadata": {},
     "output_type": "execute_result"
    }
   ],
   "source": [
    "est_avant(d1,d2)"
   ]
  },
  {
   "cell_type": "code",
   "execution_count": 3,
   "metadata": {},
   "outputs": [
    {
     "name": "stdout",
     "output_type": "stream",
     "text": [
      "7 septembre 2007\n"
     ]
    }
   ],
   "source": [
    "affiche(d1)"
   ]
  },
  {
   "cell_type": "code",
   "execution_count": null,
   "metadata": {},
   "outputs": [],
   "source": []
  }
 ],
 "metadata": {
  "kernelspec": {
   "display_name": "Python 3",
   "language": "python",
   "name": "python3"
  }
 },
 "nbformat": 4,
 "nbformat_minor": 2
}
