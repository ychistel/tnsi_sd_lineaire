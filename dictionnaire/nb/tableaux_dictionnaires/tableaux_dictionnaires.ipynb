{
 "cells": [
  {
   "cell_type": "markdown",
   "metadata": {},
   "source": [
    "# Exercice 2"
   ]
  },
  {
   "cell_type": "code",
   "execution_count": 16,
   "metadata": {},
   "outputs": [
    {
     "data": {
      "text/plain": [
       "2"
      ]
     },
     "execution_count": 16,
     "metadata": {},
     "output_type": "execute_result"
    }
   ],
   "source": [
    "def recherche_min(t):\n",
    "    return t.index(min(t))\n",
    "    \n",
    "t=[-2,0,-3]\n",
    "recherche_min(t)"
   ]
  },
  {
   "cell_type": "code",
   "execution_count": 17,
   "metadata": {},
   "outputs": [],
   "source": [
    "def recherche_min(t):\n",
    "    mini = t[0]\n",
    "    for valeur in t:\n",
    "        if valeur < mini:\n",
    "            mini = valeur\n",
    "    return t.index(mini)"
   ]
  },
  {
   "cell_type": "code",
   "execution_count": 20,
   "metadata": {},
   "outputs": [
    {
     "data": {
      "text/plain": [
       "1"
      ]
     },
     "execution_count": 20,
     "metadata": {},
     "output_type": "execute_result"
    }
   ],
   "source": [
    "t=[2,0,3]\n",
    "recherche_min(t)"
   ]
  },
  {
   "cell_type": "code",
   "execution_count": 23,
   "metadata": {},
   "outputs": [
    {
     "data": {
      "text/plain": [
       "2"
      ]
     },
     "execution_count": 23,
     "metadata": {},
     "output_type": "execute_result"
    }
   ],
   "source": [
    "def recherche_min(t):\n",
    "    mini = t[0]\n",
    "    position_mini = 0\n",
    "    for i in range(len(t)):\n",
    "        if t[i] < mini:\n",
    "            mini = t[i]\n",
    "            position_mini = i\n",
    "    return position_mini\n",
    "\n",
    "t=[-2,0,-3]\n",
    "recherche_min(t)"
   ]
  },
  {
   "cell_type": "markdown",
   "metadata": {},
   "source": [
    "# Exercice 3"
   ]
  },
  {
   "cell_type": "code",
   "execution_count": 24,
   "metadata": {},
   "outputs": [
    {
     "data": {
      "text/plain": [
       "[0, 0, 0, 1, 1, 1]"
      ]
     },
     "execution_count": 24,
     "metadata": {},
     "output_type": "execute_result"
    }
   ],
   "source": [
    "def separe(tab):\n",
    "    i = 0\n",
    "    j = len(tab)-1\n",
    "    while i < j:\n",
    "        if tab[i] == 0:\n",
    "            i = i + 1\n",
    "        else:\n",
    "            tab[i],tab[j] = tab[j],tab[i]\n",
    "            j = j - 1\n",
    "    return tab\n",
    "\n",
    "separe([1,0,1,0,1,0])"
   ]
  },
  {
   "cell_type": "markdown",
   "metadata": {},
   "source": [
    "# Exercice\n",
    "\n",
    "Exercice sur les dictionnaires."
   ]
  },
  {
   "cell_type": "code",
   "execution_count": 15,
   "metadata": {},
   "outputs": [
    {
     "data": {
      "text/plain": [
       "('Alice', 303)"
      ]
     },
     "execution_count": 15,
     "metadata": {},
     "output_type": "execute_result"
    }
   ],
   "source": [
    "def max_dico(dico):\n",
    "    cle = list(dico.keys())[0]\n",
    "    valeur_max = dico.get(cle)\n",
    "    for k in dico:\n",
    "        # k est une clé du dictionnaire\n",
    "        if valeur_max < dico.get(k):\n",
    "            valeur_max = dico[k]\n",
    "            cle = k\n",
    "    return cle,valeur_max\n",
    "    \n",
    "max_dico({'Bob':205,'Ada':201,'Alice':303,'Tim':205})"
   ]
  }
 ],
 "metadata": {
  "kernelspec": {
   "display_name": "Python 3",
   "language": "python",
   "name": "python3"
  },
  "language_info": {
   "codemirror_mode": {
    "name": "ipython",
    "version": 3
   },
   "file_extension": ".py",
   "mimetype": "text/x-python",
   "name": "python",
   "nbconvert_exporter": "python",
   "pygments_lexer": "ipython3",
   "version": "3.9.4"
  }
 },
 "nbformat": 4,
 "nbformat_minor": 2
}
