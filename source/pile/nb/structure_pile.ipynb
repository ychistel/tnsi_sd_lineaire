{
 "cells": [
  {
   "cell_type": "markdown",
   "id": "9a7bb7aa",
   "metadata": {},
   "source": [
    "# La pile"
   ]
  },
  {
   "cell_type": "markdown",
   "id": "3cc63f51",
   "metadata": {},
   "source": [
    "Une **pile** est une **structure de données linéaire** telle que:\n",
    "\n",
    "- on accède uniquement au dernier élément ajouté nommé **sommet de la pile**;\n",
    "- tout nouvel élément est ajouté au sommet de la pile.\n",
    "\n",
    "Cette structure de donnée est dite **LIFO** pour **Last In First Out** (premier arrivé, dernier sorti).\n",
    "\n",
    "On représente souvent une pile de façon verticale comme une pile d'assiettes.\n",
    "\n",
    "![schéma d'une pile](../img/piles1.png)\n",
    "\n",
    "Pour accéder à un élément situé dans la pile, il est nécessaire de dépiler jusqu'à ce que l'élément voulu soit au sommet de la pile. Tous les éléments dépilés sont perdus sauf si on les a sauvegardés dans une structure de donnée adaptée.\n",
    "\n",
    "#### Remarques:\n",
    "\n",
    "La **pile** est utile dans différents types de problèmes:\n",
    "\n",
    "- algorithme d'un navigateur pour mémoriser les pages web visitées afin de revenir en arrière:\n",
    "- mémoriser les dernières actions pour les annuler ou les répéter (ctrl z, ctrl y);\n",
    "- algorithme pour parcourir certaines structures de données;\n",
    "- écrire des versions itératives d'algorithmes récursifs."
   ]
  },
  {
   "cell_type": "markdown",
   "id": "c15766be",
   "metadata": {},
   "source": [
    "## Interface d'une pile\n",
    "\n",
    "L'interface d'une pile se compose principalement des **primitives** suivantes :\n",
    "\n",
    "- Créer une pile vide, sans contenu;\n",
    "- Empiler une pile c'est à dire ajouter un nouvel élément au sommet de la pile;\n",
    "- Dépiler une pile c'est à dire renvoyer le sommet de la pile en le supprimant de la pile;\n",
    "- Tester si une pile est vide;\n",
    "- Accéder au sommet de la pile (sans dépiler), c'est à dire renvoyer la valeur du sommet de la pile sans le supprimer;\n",
    "- Connaitre le nombre d'éléments d'une pile appelée **hauteur** de la pile;"
   ]
  },
  {
   "cell_type": "markdown",
   "id": "07d99839",
   "metadata": {},
   "source": [
    "## Implémentation d'une pile\n",
    "\n",
    "**L'implémentation** d'une pile peut se réaliser de différentes manières en Python. La pile n'existe pas nativement dans ce langage. Par contre, quelle que soit l'implémentation choisie pour une pile, l'interface reste la seule définition de cette structure.\n",
    "\n",
    "- Les **listes** de python disposent de fonctions et de méthodes pour réaliser facilement l'interface d'une pile. \n",
    "\n",
    "- On peut **implémenter**, en Python et en programmation orienté objet, un script regroupant les différentes méthodes et fonctions qui réalisent l'interface d'une pile. Cette implémentation est proche de l'implementation de la liste chainée.\n",
    "\n",
    "Quelle que soit l'implémentation, celle-ci doit respecter l'interface définissant la pile.\n",
    "\n",
    "Nous aurons à disposition un module **pile** qui définit deux classes Cellule et Pile. La classe Pile contient les 6 primitives de base:\n",
    "\n",
    "- Un constructeur **\\_\\_init\\_\\_** sans argument qui permet de créer une pile vide; une fonction **créer_pile** permet aussi de créer une pile;\n",
    "- La méthode **empiler(element)** qui ajoute un élément au sommet de la pile;\n",
    "- La méthode **depiler()** sans argument qui renvoie le sommet de la pile en le retirant de la pile;\n",
    "- La méthode **sommet()** sans argument qui renvoie le sommet de la pile sans le supprimer;\n",
    "- La fonction **len()** sans argument qui renvoie la hauteur de la pile;\n",
    "- La méthode **est_vide()** sans argument qui teste si la pile est vide."
   ]
  },
  {
   "cell_type": "markdown",
   "id": "00c05667",
   "metadata": {},
   "source": [
    "#### Exercice\n",
    "\n",
    "On considère une pile **P** telle que :\n",
    "\n",
    "- elle contient dans cet ordre les nombres entiers 17, 9, 12 et 8; \n",
    "- le nombre 17 est le sommet de la pile.\n",
    "\n",
    "1. Représenter cette pile **P** par un schéma.\n",
    "2. Écrire, à l'aide des primitives de l'interface, la suite d'instructions qui permet de créer la pile **P**.\n",
    "3. On dépile deux fois la pile **P**. Écrire les instructions et donner son contenu.\n",
    "4. On empile la valeur 31. Écrire l'instruction donner le contenu de la pile **P** ? \n",
    "5. Écrire un algorithme qui dépile la pile **P** tant qu'elle n'est pas vide.\n",
    "\n",
    "[Solution de l'exercice](exercice_pile_c.ipynb)"
   ]
  }
 ],
 "metadata": {
  "kernelspec": {
   "display_name": "Python 3",
   "language": "python",
   "name": "python3"
  },
  "language_info": {
   "codemirror_mode": {
    "name": "ipython",
    "version": 3
   },
   "file_extension": ".py",
   "mimetype": "text/x-python",
   "name": "python",
   "nbconvert_exporter": "python",
   "pygments_lexer": "ipython3",
   "version": "3.9.4"
  }
 },
 "nbformat": 4,
 "nbformat_minor": 5
}
