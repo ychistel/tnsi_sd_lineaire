{
 "cells": [
  {
   "cell_type": "markdown",
   "id": "db6396d5",
   "metadata": {},
   "source": [
    "# Solution de l'exercice sur les files\n",
    "\n",
    "On considère une file **F** contenant dans l'ordre les nombres 1, 11, 111 et 1111; le nombre 1 est la tête de la file.\n",
    "\n",
    "1. Représenter par un schéma la file **F**.\n",
    "2. On enfile la valeur 11111. Quel est le contenu de la file **F** ?\n",
    "3. On défile deux fois la file **F**. Quel est son contenu ?\n",
    "4. Écrire la suite d'instructions qui permet de créer la file **F** et réaliser les actions des questions 2 et 3.\n",
    "5. Écrire un algorithme qui défile la file **F** tant qu'elle n'est pas vide."
   ]
  },
  {
   "cell_type": "code",
   "execution_count": 1,
   "id": "bc2e8b86",
   "metadata": {},
   "outputs": [
    {
     "name": "stdout",
     "output_type": "stream",
     "text": [
      "[1, 11, 111, 1111, 11111]\n",
      "[111, 1111, 11111]\n",
      "[]\n"
     ]
    }
   ],
   "source": [
    "def creer_file():\n",
    "    return []\n",
    "\n",
    "def est_vide(file):\n",
    "    return file == []\n",
    "\n",
    "def enfiler(file,elt):\n",
    "    file.append(elt)\n",
    "    return file\n",
    "\n",
    "def defiler(file):\n",
    "    tete = file.pop(0)\n",
    "    return tete\n",
    "\n",
    "F=creer_file()\n",
    "F = enfiler(F,1)\n",
    "F = enfiler(F,11)\n",
    "F = enfiler(F,111)\n",
    "F = enfiler(F,1111)\n",
    "F = enfiler(F,11111)\n",
    "print(F)\n",
    "defiler(F)\n",
    "defiler(F)\n",
    "print(F)\n",
    "while not est_vide(F):\n",
    "    defiler(F)\n",
    "print(F)"
   ]
  }
 ],
 "metadata": {
  "kernelspec": {
   "display_name": "Python 3",
   "language": "python",
   "name": "python3"
  },
  "language_info": {
   "codemirror_mode": {
    "name": "ipython",
    "version": 3
   },
   "file_extension": ".py",
   "mimetype": "text/x-python",
   "name": "python",
   "nbconvert_exporter": "python",
   "pygments_lexer": "ipython3",
   "version": "3.9.4"
  }
 },
 "nbformat": 4,
 "nbformat_minor": 5
}
