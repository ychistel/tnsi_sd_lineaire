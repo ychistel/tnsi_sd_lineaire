{
 "cells": [
  {
   "cell_type": "markdown",
   "id": "5c757ded",
   "metadata": {},
   "source": [
    "# Exercice\n",
    "\n",
    "Cet exercice utilise le module *pile.py* qui implémente la structure de pile.\n",
    "\n",
    "On dispose des fonctions suivantes relatives aux files qui constituent son **interface**.\n",
    "\n",
    "- créer une file vide : **F=creer_file()**\n",
    "- enfiler une valeur *e* : **enfiler(F,e)**\n",
    "- défiler une valeur : **defiler(F)**\n",
    "- tester si une pile est vide : **est_vide(F)**\n",
    "\n",
    "On choisit d'**implémenter** une `file` à l'aide d'un couple `(p1,p2)` où `p1` et `p2` sont deux piles. \n",
    "\n",
    "Ainsi `file[0]` et `file[1]` sont respectivement les piles `p1` et `p2`.\n",
    "\n",
    "On rappelle l'interface de la pile :\n",
    "\n",
    "- créer une pile vide : **P=creer_pile()**\n",
    "- empiler une valeur *e* : **P.empiler(e)**\n",
    "- dépiler une valeur : **P.depiler()**\n",
    "- tester si une pile est vide : **P.est_vide()**\n",
    "\n",
    "Pour enfiler un nouvel élément `elt` dans `file`, on l'empile dans `p1`.\n",
    "\n",
    "Pour défiler `file`, deux cas se présentent:\n",
    "\n",
    "- la pile `p2` n'est pas vide : on dépile `p2`.\n",
    "- la pile `p2` est vide: on dépile les éléments de `p1` en les empilant dans `p2` jusqu'à ce que `p1` soit vide, puis on dépile `p2`.\n",
    "\n",
    "![illustration des fonctions enfiler et defiler](img/fig1.png)"
   ]
  },
  {
   "cell_type": "markdown",
   "id": "541742a3",
   "metadata": {},
   "source": [
    "## Questions\n",
    "\n",
    "1. Représenter par un schéma le contenu des deux piles après la suite d'instructions suivantes:\n",
    "\n",
    "```python\n",
    "F=creer_file()\n",
    "enfiler(F,5)\n",
    "enfiler(F,7)\n",
    "enfiler(F,1)\n",
    "```\n",
    "2. On reprend la file F précédente et on exécute la suite d'instructions suivantes:\n",
    "\n",
    "```python\n",
    "defiler(F)\n",
    "defiler(F)\n",
    "enfiler(F,9)\n",
    "```\n",
    "\n",
    "Représenter par un schéma le contenu des deux piles\n",
    "\n",
    "\n",
    "3. On donne ci-dessous la fonction **creer_file** qui crée une file F avec 2 piles *P1* et *P2*.\n",
    "\n",
    "```python\n",
    "from pile import Pile, creer_pile\n",
    "\n",
    "def creer_file():\n",
    "    P1=creer_pile()\n",
    "    P2=creer_pile()\n",
    "    return [P1,P2]\n",
    "```\n",
    "\n",
    "L'objectif est d'écrire des **fonctions** qui permettent de manipuler les éléments de la file F.\n",
    "\n",
    "- pour tester si une file est vide : **est_vide(F)**\n",
    "- pour enfiler une valeur *e* dans la file : **enfiler(F,e)**\n",
    "- pour defiler la file (en supprimant sa valeur) : **defiler(F)**\n",
    "\n",
    "a) Écrire en Python une fonction **est_vide(F)** qui prend en argument une file F et qui renvoie **True** si la file représentée par F est vide, **False** sinon.\n",
    "\n",
    "b) Écrire en Python une fonction **enfiler(F,elt)** qui prend en argument une file F et qui ajoute **elt** en queue de la file F.\n",
    "\n",
    "c) Écrire en Python une fonction **defiler(F)** qui prend en argument une file F et qui renvoie l'élément en tête de la file F en le retirant.\n"
   ]
  },
  {
   "cell_type": "code",
   "execution_count": 11,
   "id": "728a8b01",
   "metadata": {},
   "outputs": [],
   "source": [
    "from pile import Pile, creer_pile\n",
    "\n",
    "def creer_file():\n",
    "    P1=creer_pile()\n",
    "    P2=creer_pile()\n",
    "    return [P1,P2]\n",
    "\n",
    "def est_vide(file):\n",
    "    return file[0].est_vide() and file[1].est_vide()\n",
    "\n",
    "def enfiler(file,elt):\n",
    "    file[0].empiler(elt)\n",
    "    return file\n",
    "\n",
    "def defiler(file):\n",
    "    if not file[1].est_vide():\n",
    "        file[1].depiler()\n",
    "    else:\n",
    "        while not file[0].est_vide():\n",
    "            file[1].empiler(file[0].depiler())\n",
    "        file[1].depiler()"
   ]
  },
  {
   "cell_type": "code",
   "execution_count": 13,
   "id": "100ec1fe",
   "metadata": {},
   "outputs": [
    {
     "name": "stdout",
     "output_type": "stream",
     "text": [
      "[... ] 1 ] 8 ] 7 ] 5 ], ... ]]\n",
      "[... ] 9 ], ... ] 8 ] 1 ]]\n"
     ]
    }
   ],
   "source": [
    "F=creer_file()\n",
    "est_vide(F)\n",
    "enfiler(F,5)\n",
    "enfiler(F,7)\n",
    "enfiler(F,8)\n",
    "enfiler(F,1)\n",
    "print(F)\n",
    "defiler(F)\n",
    "defiler(F)\n",
    "enfiler(F,9)\n",
    "print(F)"
   ]
  },
  {
   "cell_type": "code",
   "execution_count": null,
   "id": "fa47f894",
   "metadata": {},
   "outputs": [],
   "source": []
  }
 ],
 "metadata": {
  "kernelspec": {
   "display_name": "Python 3",
   "language": "python",
   "name": "python3"
  },
  "language_info": {
   "codemirror_mode": {
    "name": "ipython",
    "version": 3
   },
   "file_extension": ".py",
   "mimetype": "text/x-python",
   "name": "python",
   "nbconvert_exporter": "python",
   "pygments_lexer": "ipython3",
   "version": "3.9.4"
  }
 },
 "nbformat": 4,
 "nbformat_minor": 5
}
