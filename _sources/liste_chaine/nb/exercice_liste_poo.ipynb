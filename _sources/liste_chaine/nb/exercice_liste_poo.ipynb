{
 "cells": [
  {
   "cell_type": "code",
   "execution_count": 8,
   "id": "6f5c6a28",
   "metadata": {},
   "outputs": [],
   "source": [
    "from liste_chaine import *"
   ]
  },
  {
   "cell_type": "code",
   "execution_count": 2,
   "id": "37718ddc",
   "metadata": {},
   "outputs": [],
   "source": [
    "L = creer_liste_chaine()\n",
    "K = creer_liste_chaine()"
   ]
  },
  {
   "cell_type": "code",
   "execution_count": 3,
   "id": "1c322d04",
   "metadata": {},
   "outputs": [],
   "source": [
    "L.inserer(4)\n",
    "L.inserer(7)\n",
    "L.inserer(1)"
   ]
  },
  {
   "cell_type": "code",
   "execution_count": 4,
   "id": "c4feeddc",
   "metadata": {},
   "outputs": [
    {
     "name": "stdout",
     "output_type": "stream",
     "text": [
      "[1]->[7]->[4]->[] []\n"
     ]
    }
   ],
   "source": [
    "print(L,K)"
   ]
  },
  {
   "cell_type": "code",
   "execution_count": 5,
   "id": "e2b6bcc7",
   "metadata": {},
   "outputs": [],
   "source": [
    "K.inserer(3)"
   ]
  },
  {
   "cell_type": "code",
   "execution_count": 6,
   "id": "82942293",
   "metadata": {},
   "outputs": [
    {
     "name": "stdout",
     "output_type": "stream",
     "text": [
      "[1]->[7]->[4]->[]\n"
     ]
    }
   ],
   "source": [
    "print(L)"
   ]
  },
  {
   "cell_type": "code",
   "execution_count": 10,
   "id": "920ec75d",
   "metadata": {},
   "outputs": [
    {
     "name": "stdout",
     "output_type": "stream",
     "text": [
      "[1]->[7]->[9]->[4]->[] (7,(9,(4,None))) (9,(4,None))\n"
     ]
    }
   ],
   "source": [
    "L=creer_liste_chaine()\n",
    "L.inserer(4)\n",
    "L.inserer(7)\n",
    "L.inserer(1)\n",
    "\n",
    "temp = L.maillon\n",
    "temp = temp.suivant\n",
    "#temp = temp.suivant\n",
    "#print(L,temp,maillon)\n",
    "\n",
    "maillon = Maillon(9)\n",
    "maillon.suivant=temp.suivant\n",
    "temp.suivant = maillon\n",
    "\n",
    "print(L,temp,maillon)"
   ]
  },
  {
   "cell_type": "code",
   "execution_count": 76,
   "id": "779bbfa2",
   "metadata": {},
   "outputs": [
    {
     "name": "stdout",
     "output_type": "stream",
     "text": [
      "[1]->[9]->[4]->[] (1,(9,(4,None)))\n"
     ]
    }
   ],
   "source": [
    "temp = L.maillon\n",
    "temp.suivant = temp.suivant.suivant\n",
    "\n",
    "print(L,temp)"
   ]
  },
  {
   "cell_type": "code",
   "execution_count": 40,
   "id": "d18b6736",
   "metadata": {},
   "outputs": [],
   "source": [
    "def supprime_tete(liste):\n",
    "    return liste.queue()"
   ]
  },
  {
   "cell_type": "code",
   "execution_count": 21,
   "id": "681edce4",
   "metadata": {},
   "outputs": [],
   "source": [
    "K = supprime_tete(K)"
   ]
  },
  {
   "cell_type": "code",
   "execution_count": 33,
   "id": "bf2c3b36",
   "metadata": {},
   "outputs": [],
   "source": [
    "def longueur(liste):\n",
    "    long = 0\n",
    "    while not liste.est_vide():\n",
    "        long += 1\n",
    "        liste = liste.queue()\n",
    "    return long"
   ]
  },
  {
   "cell_type": "code",
   "execution_count": 34,
   "id": "f77db87e",
   "metadata": {},
   "outputs": [
    {
     "data": {
      "text/plain": [
       "3"
      ]
     },
     "execution_count": 34,
     "metadata": {},
     "output_type": "execute_result"
    }
   ],
   "source": [
    "longueur(L)"
   ]
  },
  {
   "cell_type": "code",
   "execution_count": 57,
   "id": "aac27ef8",
   "metadata": {},
   "outputs": [
    {
     "name": "stdout",
     "output_type": "stream",
     "text": [
      "[1]->[3]->[7]->[4]->[]\n"
     ]
    }
   ],
   "source": [
    "L=creer_liste_chaine()\n",
    "K = creer_liste_chaine()\n",
    "\n",
    "L.inserer(4)\n",
    "L.inserer(7)\n",
    "L.inserer(1)\n",
    "\n",
    "K.inserer(3)\n",
    "\n",
    "K.maillon.suivant=L.maillon.suivant\n",
    "L.maillon.suivant=K.maillon\n",
    "print(L)"
   ]
  },
  {
   "cell_type": "code",
   "execution_count": 58,
   "id": "ada49c06",
   "metadata": {},
   "outputs": [
    {
     "name": "stdout",
     "output_type": "stream",
     "text": [
      "[1]->[7]->[4]->[] [1]->[7]->[4]->[] [3]->[]\n"
     ]
    }
   ],
   "source": [
    "L=creer_liste_chaine()\n",
    "K = creer_liste_chaine()\n",
    "\n",
    "L.inserer(4)\n",
    "L.inserer(7)\n",
    "L.inserer(1)\n",
    "\n",
    "K.inserer(3)\n",
    "\n",
    "# relier les deux listes\n",
    "G = creer_liste_chaine()\n",
    "G.maillon = L.maillon\n",
    "print(G,L,K)"
   ]
  },
  {
   "cell_type": "code",
   "execution_count": 73,
   "id": "da6bcc0c",
   "metadata": {},
   "outputs": [
    {
     "name": "stdout",
     "output_type": "stream",
     "text": [
      "[1]->[7]->[4]->[] [3]->[]\n"
     ]
    }
   ],
   "source": [
    "print(L,K)"
   ]
  },
  {
   "cell_type": "code",
   "execution_count": 62,
   "id": "59463961",
   "metadata": {},
   "outputs": [
    {
     "name": "stdout",
     "output_type": "stream",
     "text": [
      "[3]->[]\n"
     ]
    }
   ],
   "source": [
    "print(K)"
   ]
  },
  {
   "cell_type": "code",
   "execution_count": null,
   "id": "8c2d77fe",
   "metadata": {},
   "outputs": [],
   "source": []
  }
 ],
 "metadata": {
  "kernelspec": {
   "display_name": "Python 3",
   "language": "python",
   "name": "python3"
  },
  "language_info": {
   "codemirror_mode": {
    "name": "ipython",
    "version": 3
   },
   "file_extension": ".py",
   "mimetype": "text/x-python",
   "name": "python",
   "nbconvert_exporter": "python",
   "pygments_lexer": "ipython3",
   "version": "3.9.4"
  }
 },
 "nbformat": 4,
 "nbformat_minor": 5
}
