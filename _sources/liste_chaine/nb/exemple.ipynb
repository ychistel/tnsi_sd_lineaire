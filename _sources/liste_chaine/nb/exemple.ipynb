{
 "cells": [
  {
   "cell_type": "markdown",
   "id": "b05ea0da",
   "metadata": {},
   "source": [
    "# Exercice du cours"
   ]
  },
  {
   "cell_type": "code",
   "execution_count": 1,
   "id": "b349f72f",
   "metadata": {},
   "outputs": [],
   "source": [
    "def creer_liste():\n",
    "    return ()\n",
    "\n",
    "def est_vide(liste):\n",
    "    return liste == ()\n",
    "\n",
    "def inserer(liste, element):\n",
    "    return (element, liste)\n",
    "\n",
    "def tete(liste):\n",
    "    assert not est_vide(liste), \"tête, liste vide !\"\n",
    "    element, _ = liste\n",
    "    return element\n",
    "\n",
    "def queue(liste):\n",
    "    assert not est_vide(liste), \"queue, liste vide !\"\n",
    "    _,queue = liste\n",
    "    return queue"
   ]
  },
  {
   "cell_type": "code",
   "execution_count": 2,
   "id": "59fd7a83",
   "metadata": {},
   "outputs": [
    {
     "name": "stdout",
     "output_type": "stream",
     "text": [
      "(1, (2, (4, ())))\n"
     ]
    }
   ],
   "source": [
    "L = creer_liste()\n",
    "L = inserer(L,4)\n",
    "L = inserer(L,2)\n",
    "L = inserer(L,1)\n",
    "print(L)"
   ]
  },
  {
   "cell_type": "code",
   "execution_count": 3,
   "id": "ae674712",
   "metadata": {},
   "outputs": [
    {
     "name": "stdout",
     "output_type": "stream",
     "text": [
      "(5, (1, (2, (4, ()))))\n"
     ]
    }
   ],
   "source": [
    "L = inserer(L,5)\n",
    "print(L)"
   ]
  },
  {
   "cell_type": "code",
   "execution_count": 4,
   "id": "fd4dad2e",
   "metadata": {},
   "outputs": [
    {
     "name": "stdout",
     "output_type": "stream",
     "text": [
      "(1, (2, (4, ())))\n"
     ]
    }
   ],
   "source": [
    "Q =  queue(L)\n",
    "print(Q)"
   ]
  },
  {
   "cell_type": "code",
   "execution_count": 5,
   "id": "e9e08bc2",
   "metadata": {},
   "outputs": [
    {
     "name": "stdout",
     "output_type": "stream",
     "text": [
      "(2, (4, ()))\n"
     ]
    }
   ],
   "source": [
    "R = queue(queue(L))\n",
    "print(R)"
   ]
  }
 ],
 "metadata": {
  "celltoolbar": "Format de la Cellule Texte Brut",
  "kernelspec": {
   "display_name": "Python 3",
   "language": "python",
   "name": "python3"
  },
  "language_info": {
   "codemirror_mode": {
    "name": "ipython",
    "version": 3
   },
   "file_extension": ".py",
   "mimetype": "text/x-python",
   "name": "python",
   "nbconvert_exporter": "python",
   "pygments_lexer": "ipython3",
   "version": "3.9.4"
  }
 },
 "nbformat": 4,
 "nbformat_minor": 5
}
