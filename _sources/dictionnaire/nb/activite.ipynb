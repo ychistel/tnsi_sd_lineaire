{
 "cells": [
  {
   "cell_type": "markdown",
   "id": "0e7e6b73",
   "metadata": {},
   "source": [
    "# Activité\n",
    "\n",
    "## Type de données\n",
    "\n",
    "1. Citer différents types de données de base rencontrés dans le langage Python.\n",
    "2. En Python, quels types de données permettent d'avoir plusieurs valeurs dans une même variable ?\n",
    "\n",
    "## Les données par indices\n",
    "\n",
    "Soit `a` la variable telle que `a=(1,2,3)`.\n",
    "\n",
    "1. Quel le type de données de la variable `a` ?\n",
    "2. Est-il possible de remplacer le nombre 3 par la valeur 4 ? Si oui, comment?\n",
    "\n",
    "Soit `b` la variable telle que `b=list(a)`.\n",
    "\n",
    "1. Quel est le type de la variable `b` ?\n",
    "2. Est-il possible de remplacer le nombre 3 par la valeur 4 ? Si oui, comment?\n",
    "3. Quelles sont les opérations réalisables sur la variable `b` ?\n",
    "\n",
    "## Les données par association\n",
    "\n",
    "Soit `c` la variable définie par `c=dict(\"x\"=3,\"y\"=4)}`.\n",
    "\n",
    "1. Quel est le type de la variable `c` ? Donner une autre écriture pour créer cette variable.\n",
    "2. La variable `c` est-elle modifiable ? Quelles sont les opérations possibles à réaliser ?\n",
    "3. Comment ajouter la clé `z` associée à la valeur 5 ?\n"
   ]
  },
  {
   "cell_type": "code",
   "execution_count": null,
   "id": "19cd6899",
   "metadata": {},
   "outputs": [],
   "source": []
  }
 ],
 "metadata": {
  "kernelspec": {
   "display_name": "Python 3",
   "language": "python",
   "name": "python3"
  },
  "language_info": {
   "codemirror_mode": {
    "name": "ipython",
    "version": 3
   },
   "file_extension": ".py",
   "mimetype": "text/x-python",
   "name": "python",
   "nbconvert_exporter": "python",
   "pygments_lexer": "ipython3",
   "version": "3.9.4"
  }
 },
 "nbformat": 4,
 "nbformat_minor": 5
}
