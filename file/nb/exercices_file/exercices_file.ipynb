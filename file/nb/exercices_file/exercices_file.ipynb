{
 "cells": [
  {
   "cell_type": "markdown",
   "metadata": {},
   "source": [
    "# Exercice 2\n",
    "\n",
    "Implémentation de la structure de file avec des fonctions Python."
   ]
  },
  {
   "cell_type": "code",
   "execution_count": 1,
   "metadata": {},
   "outputs": [],
   "source": [
    "def creer_file():\n",
    "    return []\n",
    "\n",
    "def est_vide(file):\n",
    "    return file == []\n",
    "\n",
    "def enfiler(file,elt):\n",
    "    file.append(elt)\n",
    "    return file\n",
    "\n",
    "def defiler(file):\n",
    "    if not est_vide(file):\n",
    "        tete = file.pop(0)\n",
    "    return tete\n",
    "\n",
    "# On ajoute 2 fonctions \n",
    "\n",
    "def tete_de_file(file):\n",
    "    if not est_vide(file):\n",
    "        return file[0]\n",
    "    \n",
    "def longueur(file):\n",
    "    return len(file)"
   ]
  },
  {
   "cell_type": "code",
   "execution_count": 5,
   "metadata": {},
   "outputs": [
    {
     "name": "stdout",
     "output_type": "stream",
     "text": [
      "[4, 1, 3]\n",
      "[1, 3]\n",
      "[1, 3, 5]\n",
      "[]\n"
     ]
    }
   ],
   "source": [
    "F = creer_file()\n",
    "F = enfiler(F,4)\n",
    "F = enfiler(F,1)\n",
    "F = enfiler(F,3)\n",
    "print(F) # non autorisé car non défini dans interface, juste un test\n",
    "defiler(F)\n",
    "print(F) # non autorisé car non défini dans interface, juste un test\n",
    "F = enfiler(F,5)\n",
    "print(F) # non autorisé car non défini dans interface, juste un test\n",
    "while not est_vide(F):\n",
    "    defiler(F)\n",
    "print(F) # non autorisé car non défini dans interface, juste un test"
   ]
  },
  {
   "cell_type": "markdown",
   "metadata": {},
   "source": [
    "# Exercice 3\n",
    "\n",
    "**Suite de Conway**\n",
    "\n",
    "- [En savoir plus sur la suite de Conway](https://wikimonde.com/article/Suite_de_Conway)\n",
    "- [Calculer les termes de la suite](https://www.dcode.fr/suite-conway)"
   ]
  },
  {
   "cell_type": "code",
   "execution_count": 66,
   "metadata": {},
   "outputs": [],
   "source": [
    "def terme_en_file(terme):\n",
    "    f1 = creer_file()\n",
    "    for chiffre in terme:\n",
    "        f1 = enfiler(f1, eval(chiffre))\n",
    "    return f1\n",
    "\n",
    "def enumere_terme(f1):\n",
    "    f2 = creer_file()\n",
    "    if not est_vide(f1):\n",
    "        c = defiler(f1)\n",
    "        n = 1\n",
    "        while not est_vide(f1):\n",
    "            tete = defiler(f1)\n",
    "            if tete == c:\n",
    "                n += 1\n",
    "            else:\n",
    "                f2 = enfiler(f2,(n,c))\n",
    "                c = tete\n",
    "                n = 1\n",
    "        f2 = enfiler(f2,(n,c))\n",
    "    return f2\n",
    "\n",
    "def terme_suivant(f):\n",
    "    terme = ''\n",
    "    while not est_vide(f):\n",
    "        n,c = defiler(f)\n",
    "        terme += str(n) + str(c)\n",
    "    return terme\n",
    "\n",
    "def suite_conway(n):\n",
    "    termes = [\"1\"]\n",
    "    u = termes[0]\n",
    "    for i in range(n):\n",
    "        f1 = terme_en_file(u)\n",
    "        f2 = enumere_terme(f1)\n",
    "        u = terme_suivant(f2)\n",
    "        termes.append(u)\n",
    "    return termes"
   ]
  },
  {
   "cell_type": "code",
   "execution_count": 70,
   "metadata": {},
   "outputs": [
    {
     "data": {
      "text/plain": [
       "['1', '11', '21', '1211', '111221', '312211']"
      ]
     },
     "execution_count": 70,
     "metadata": {},
     "output_type": "execute_result"
    }
   ],
   "source": [
    "suite_conway(5)"
   ]
  }
 ],
 "metadata": {
  "kernelspec": {
   "display_name": "Python 3",
   "language": "python",
   "name": "python3"
  },
  "language_info": {
   "codemirror_mode": {
    "name": "ipython",
    "version": 3
   },
   "file_extension": ".py",
   "mimetype": "text/x-python",
   "name": "python",
   "nbconvert_exporter": "python",
   "pygments_lexer": "ipython3",
   "version": "3.9.4"
  }
 },
 "nbformat": 4,
 "nbformat_minor": 2
}
