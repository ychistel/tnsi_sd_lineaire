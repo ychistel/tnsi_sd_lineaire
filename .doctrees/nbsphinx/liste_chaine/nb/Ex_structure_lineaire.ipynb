{
 "cells": [
  {
   "cell_type": "markdown",
   "id": "c34a8d68",
   "metadata": {},
   "source": [
    "# Structure de données linéaire"
   ]
  },
  {
   "cell_type": "markdown",
   "id": "57334289",
   "metadata": {},
   "source": [
    "# Exercice\n",
    "\n",
    "*Cet exercice traite des listes chainées qui seront construites avec le module liste-chaine.py*\n",
    "\n",
    "On définit l'interface d'une liste chainée.\n",
    "\n",
    "- la méthode **tete()** renvoie la tête de la liste, c'est à dire la valeur de la première  cellule de la chaine;\n",
    "- la méthode **queue()** renvoie la queue de liste, c'est à dire la liste sur laquelle pointe la première cellule;\n",
    "- la méthode **est_vide()** renvoie un booléen indiquant si la liste est vide ou non.\n",
    "- la méthode **insere_en_tete()** qui prend en argument une valeur l'ajoute en début de liste ;\n",
    "\n",
    "On considère la liste chainée suivante:\n",
    "\n",
    "![liste chainée L1](../img/liste-chainee3.png)\n",
    "\n",
    "1. Que renvoie les instructions suivantes:\n",
    "\n",
    "- `L1.tete()` :\n",
    "- `L1.queue()` :\n",
    "- `L1.queue().queue()` :\n",
    "- `L1.queue().queue().queue().est_vide()`\n",
    "\n",
    "2. Donner une suite d'instructions qui permet de construire la liste chainée L1.\n",
    "3. On souhaite créer les listes L2, L3 et L4 représentées ci-dessous. Quelles sont les instructions Python qui permettent de créer ces listes ?\n",
    "\n",
    "![liste chainée L1, L2, L3 et L4](../img/liste-chainee4.png)\n",
    "\n",
    "4. Écrire la fonction **nombre_elements** qui prend en argument une liste chainée et renvoie le nombre de ces éléments.\n",
    "5. La fonction **insere_en_position** prend en argument une liste chainée, une position et une valeur à insérer dans la liste chainée. Cette fonction renvoie la liste chainée avec le nouvel élément situé à la bonne position.\n",
    "\n",
    "    - Écrire cette fonction en Python.\n",
    "    - Insérer le nombre 0 en position 2.\n",
    "    - Insérer le nombre -1 en fin de liste."
   ]
  },
  {
   "cell_type": "markdown",
   "id": "e708f9a6",
   "metadata": {},
   "source": [
    "# Exercice\n",
    "\n",
    "*Exercice sur les piles qui utilisera le script pile.py*\n",
    "\n",
    "L'interface de la pile utilise les fonctions et méthodes suivantes :\n",
    "\n",
    "- Créer une pile vide : `P=creer_pile()`\n",
    "- Empiler une valeur au sommet de la pile : `P.empiler(x)`;\n",
    "- Dépiler le sommet de la pile en renvoyant sa valeur `y=P.depiler()`;\n",
    "- Tester si la pile est vide : `P.est_vide()`.\n",
    "\n",
    "1. Créer une pile vide **P**.\n",
    "2. Empiler dans la pile **P** un nombre aléatoire de valeurs (entre 5 et 10) choisies aléatoirement entre 1 et 20 (1 et 20 compris).\n",
    "3. Écrire la fonction **somme** qui prend en argument une pile et calcule la somme des nombres contenus dans la pile **P**. Celle-ci sera vide à la fin du calcul.\n",
    "4. Écrire la fonction **somme2**  identique à **somme** mais la pile **P** devra retrouver son état initial. Pour cette seconde fonction, on utilisera une seconde pile interne à la fonction."
   ]
  },
  {
   "cell_type": "markdown",
   "id": "02e6f463",
   "metadata": {},
   "source": [
    "# Exercice\n",
    "\n",
    "*Cet exercice a pour objectif d'interfacer des piles avec les listes de Python*\n",
    "\n",
    "On souhaite créer l'interface d'une pile en utilisant les listes python. L'interface est la suivante:\n",
    "\n",
    "- Créer une pile vide : `P=creer_pile()`\n",
    "- Empiler une valeur au sommet de la pile : `empiler(P,x)`;\n",
    "- Dépiler le sommet de la pile en renvoyant sa valeur `y=depiler(P)`;\n",
    "- Tester si la pile est vide : `est_vide(P)`.\n",
    "\n",
    "1. Citer les méthodes ou fonctions sur les **listes** qui permettent :\n",
    "\n",
    "- de créer une pile;\n",
    "- d'empiler une valeur;\n",
    "- de dépiler le sommet de la pile;\n",
    "- de tester si la pile est vide.\n",
    "\n",
    "2. Créer ces 4 fonctions **creer_pile**, **empiler**, **depiler** et **est_vide** pour réaliser l'interface de la pile. Les paramètres de ces fonctions vérifient l'interface donnée ci-dessus.\n",
    "3. Pour vérifier le bon fonctionnement de votre interface, les instructions de contrôle suivantes ne doivent pas renvoyer d'erreur:\n",
    "\n",
    "```python\n",
    "P=creer_pile()\n",
    "assert est_vide(P) == True\n",
    "assert empiler(P,5) == [5]\n",
    "assert empiler(P,3) == [5, 3]\n",
    "assert empiler(P,8) == [5, 3, 8]\n",
    "assert est_vide(P) == False\n",
    "assert depiler(P) == 8\n",
    "assert depiler(P) == 3\n",
    "assert est_vide(P) == False\n",
    "assert depiler(P) == 5\n",
    "assert est_vide(P) == True\n",
    "```"
   ]
  },
  {
   "cell_type": "markdown",
   "id": "a026d862",
   "metadata": {},
   "source": [
    "# Exercice\n",
    "\n",
    "*Cet exercice sur les files utilise le script file.py qui implémente l'interface des files.*\n",
    "\n",
    "On rappelle l'interface de la file:\n",
    "\n",
    "- Créer_file() qui crée une file vide : `F = creer_file()`\n",
    "- Enfiler(valeur) qui ajoute une valeur à la file : `F.enfiler(1)`\n",
    "- Défiler() qui supprime la tête de la file en renvoyant sa valeur : `F.defiler()`\n",
    "- Est_vide() qui teste si la file est vide : `F.est_vide()` qui renvoie vrai ici.\n",
    "\n",
    "1. Créer une file vide **F**.\n",
    "2. Enfiler un nombre aléatoire de valeurs (entre 5 et 10) dans la file **F**. Les valeurs sont des nombres aléatoires compris entre 1 et 100.\n",
    "3. Créer une seconde file **G** vide.\n",
    "4. Créer un script qui enfile les nombres impairs de la file **F** dans la file **G**. La file **F** contiendra les nombres pairs à l'issue du script."
   ]
  },
  {
   "cell_type": "markdown",
   "id": "8a2b89a6",
   "metadata": {},
   "source": [
    "# Exercice\n",
    "\n",
    "*Exercice sur les files qui utilise le script file.py et traite la conjecture de syracuse*\n",
    "\n",
    "La [Conjecture de syracuse](https://fr.wikipedia.org/wiki/Conjecture_de_Syracuse) appelée suite de Syracuse calcule une suite de nombres selon leur parité (pair ou impair). On utilisera une file pour stocker les valeurs de nos différentes suites de Syracuse. L'interface de notre file est la même que l'exercice précédent.\n",
    "\n",
    "Après avoir lu l'article sur wikipédia, nous allons construire différentes fonctions en Python pour calculer les nombres de cette suite.\n",
    "\n",
    "1. Importer la classe File et la fonction creer_file du module file.\n",
    "2. Créer une file vide S qui stockera les nombres de notre suite de Syracuse.\n",
    "3. Écrire la fonction **syracuse** de paramètre **n**, nombre entier, qui calcule les nombres de la suite de syracuse et enregistre les valeurs dans la file S.\n",
    "4. On associe les nombres de syracuse à la trajectoire d'une feuille morte et on parle du vol de la suite. Trois valeurs symbolisent ce vol : le temps de vol, le temps de vol en altitude et l'altitude maximale.    \n",
    "Écrire trois fonctions qui permettent d'obtenir ces trois valeurs. Attention, la file doit retrouver son état initial après les appels des fonctions.\n",
    "5. Créer un script qui permet de calculer les nombres de syracuse pour une valeur **N** donnée et affiche les trois valeurs du vol.\n",
    "\n",
    "> Par exemple, pour N=129:\n",
    ">\n",
    "> - Le temps de vol pour N=129 est 121.    \n",
    "> - Le temps de vol en altitude pour N=129 est 2.    \n",
    "> - L'altitude maximale pour N=129 est 9232.\n",
    "\n",
    "6. Représenter graphiquement les nombres de syracuse en important le module **matplotlib** et en utilisant la fonction **graphik** ci-dessous:\n",
    "\n",
    "```python\n",
    "# import du module avec alias plt\n",
    "from matplotlib import pyplot as plt\n",
    "\n",
    "# fonction qui permet de représenter graphiquement ces nombres:   \n",
    "def graphik(file):\n",
    "    if not file.est_vide():\n",
    "        y = file.defiler()\n",
    "        file.enfiler(y)\n",
    "    n=1\n",
    "    Y=[y]\n",
    "    while y != 1:\n",
    "        y = file.defiler()\n",
    "        Y.append(y)\n",
    "        n += 1\n",
    "        file.enfiler(y)\n",
    "    file.enfiler(y)\n",
    "    X=[i for i in range(n)]\n",
    "    plt.plot(X,Y)\n",
    "    return plt\n",
    "\n",
    "#Appel pour afficher le graphique, on effectuera l'appel:    \n",
    "    g=graphik(S)\n",
    "    g.show() # <= inutile sur un notebook jupyter !\n",
    "```\n"
   ]
  },
  {
   "cell_type": "markdown",
   "id": "63656134",
   "metadata": {},
   "source": [
    "# Solutions des exercices"
   ]
  },
  {
   "cell_type": "markdown",
   "id": "71918135",
   "metadata": {},
   "source": [
    "## Exercice 1"
   ]
  },
  {
   "cell_type": "code",
   "execution_count": 24,
   "id": "a02b0952",
   "metadata": {},
   "outputs": [
    {
     "name": "stdout",
     "output_type": "stream",
     "text": [
      "[3]->[8]->[5]->[7]->[]\n",
      "[8]->[5]->[7]->[]\n",
      "[5]->[7]->[]\n",
      "[1]->[5]->[7]->[] [5]->[7]->[]\n"
     ]
    }
   ],
   "source": [
    "from liste_chaine import Liste, Maillon, creer_liste_chaine\n",
    "\n",
    "L1=creer_liste_chaine()\n",
    "L1.inserer(7)\n",
    "L1.inserer(5)\n",
    "L1.inserer(8)\n",
    "L1.inserer(3)\n",
    "\n",
    "# créer les listes L2, L3 et L4:\n",
    "\n",
    "print(L1)\n",
    "\n",
    "L2=L1.queue()\n",
    "print(L2)\n",
    "\n",
    "L3=L2.queue()\n",
    "print(L3)\n",
    "\n",
    "L4=L2.queue()\n",
    "L4.inserer(1)\n",
    "print(L4,L3)"
   ]
  },
  {
   "cell_type": "code",
   "execution_count": 25,
   "id": "56746560",
   "metadata": {},
   "outputs": [
    {
     "name": "stdout",
     "output_type": "stream",
     "text": [
      "4\n",
      "[3]->[8]->[5]->[7]->[]\n",
      "6\n",
      "[3]->[8]->[6]->[5]->[1]->[7]->[]\n"
     ]
    }
   ],
   "source": [
    "def nombre_element(liste):\n",
    "    nb = 0\n",
    "    while not liste.est_vide():\n",
    "        liste=liste.queue()\n",
    "        nb += 1\n",
    "    return nb\n",
    "    \n",
    "# version récursive de la fonction nombre_element\n",
    "def nb_element_rec(liste):\n",
    "    if liste.est_vide():\n",
    "        return 0\n",
    "    else:\n",
    "        return nb_element_rec(liste.queue())+1\n",
    "\n",
    "\n",
    "def insere_en_position(liste,pos,element):\n",
    "    debut=creer_liste_chaine()\n",
    "    while pos > 0:\n",
    "        # on recupère les valeurs de la liste dans une liste debut\n",
    "        debut.inserer(liste.tete())\n",
    "        # on avance dans la liste tant que pos > 0\n",
    "        liste=liste.queue()\n",
    "        pos -= 1\n",
    "    # on insere l'élément dans la liste\n",
    "    liste.inserer(element)\n",
    "    # on remet les éléments de tête dans la liste\n",
    "    while not debut.est_vide():\n",
    "        liste.inserer(debut.tete())\n",
    "        debut=debut.queue()\n",
    "    return liste\n",
    "\n",
    "print(nombre_element(L1))\n",
    "#print(nb_element_rec(L1))\n",
    "print(L1)\n",
    "L1=insere_en_position(L1,2,6)\n",
    "L1=insere_en_position(L1,4,1)\n",
    "#print(nombre_element(L1))\n",
    "print(nb_element_rec(L1))\n",
    "print(L1)"
   ]
  },
  {
   "cell_type": "markdown",
   "id": "c5e85b9d",
   "metadata": {},
   "source": [
    "## Exercice 2"
   ]
  },
  {
   "cell_type": "code",
   "execution_count": 15,
   "id": "112dc5fb",
   "metadata": {},
   "outputs": [
    {
     "name": "stdout",
     "output_type": "stream",
     "text": [
      "... ] 2 ] 5 ] 3 ] 16 ] 9 ] 20 ]\n",
      "Somme des éléments de la pile: 55\n",
      "Somme des éléments de la pile: 55\n"
     ]
    }
   ],
   "source": [
    "from pile import Pile, creer_pile\n",
    "from random import randint\n",
    "\n",
    "# 1. Créer la pile P vide\n",
    "P=creer_pile()\n",
    "\n",
    "# Empiler 5 valeurs entre 1 et 6\n",
    "for _ in range(randint(5,10)):\n",
    "    P.empiler(randint(1,20))\n",
    "    \n",
    "def somme(pile):\n",
    "    S = 0\n",
    "    while not pile.est_vide():\n",
    "        S += pile.depiler()\n",
    "    return S\n",
    "\n",
    "def somme_rec(pile):\n",
    "    if pile.est_vide():\n",
    "        return 0\n",
    "    else:\n",
    "        return pile.depiler()+somme_rec(pile)\n",
    "\n",
    "def somme2(pile):\n",
    "    \"\"\"\n",
    "    Remarque : on peut se passer de l'argument pile et directement traiter la pile P dans la fonction.\n",
    "    \n",
    "    \"\"\"\n",
    "    Q = creer_pile()\n",
    "    S = 0\n",
    "    while not pile.est_vide():\n",
    "        x = pile.depiler()\n",
    "        S += x\n",
    "        Q.empiler(x)\n",
    "    while not Q.est_vide():\n",
    "        pile.empiler(Q.depiler())\n",
    "    return S\n",
    "\n",
    "print(P)\n",
    "print(\"Somme des éléments de la pile:\",somme2(P))\n",
    "print(\"Somme des éléments de la pile:\",somme_rec(P))"
   ]
  },
  {
   "cell_type": "markdown",
   "id": "96219d4a",
   "metadata": {},
   "source": [
    "###  Exercice 3"
   ]
  },
  {
   "cell_type": "code",
   "execution_count": 16,
   "id": "203b7549",
   "metadata": {},
   "outputs": [],
   "source": [
    "# Fonctions et méthodes des listes\n",
    "\n",
    "# pour créer une pile vide : list() ou []\n",
    "# pour empiler une valeur : append(valeur)\n",
    "# pour dépiler : pop(-1)\n",
    "# pour tester la pile vide : pile == []"
   ]
  },
  {
   "cell_type": "code",
   "execution_count": 17,
   "id": "4577b42a",
   "metadata": {},
   "outputs": [],
   "source": [
    "def creer_pile():\n",
    "    return list()\n",
    "\n",
    "def empiler(pile,valeur):\n",
    "    if valeur:\n",
    "        pile.append(valeur)\n",
    "    return pile\n",
    "\n",
    "def depiler(pile):\n",
    "    return pile.pop(-1)\n",
    "\n",
    "def est_vide(pile):\n",
    "    return pile == []"
   ]
  },
  {
   "cell_type": "code",
   "execution_count": 18,
   "id": "cbef300c",
   "metadata": {},
   "outputs": [],
   "source": [
    "P=creer_pile()\n",
    "assert est_vide(P) == True\n",
    "assert empiler(P,5) == [5]\n",
    "assert empiler(P,3) == [5, 3]\n",
    "assert empiler(P,8) == [5, 3, 8]\n",
    "assert est_vide(P) == False\n",
    "assert depiler(P) == 8\n",
    "assert depiler(P) == 3\n",
    "assert est_vide(P) == False\n",
    "assert depiler(P) == 5\n",
    "assert est_vide(P) == True"
   ]
  },
  {
   "cell_type": "markdown",
   "id": "92bd190d",
   "metadata": {},
   "source": [
    "### Exercice 4"
   ]
  },
  {
   "cell_type": "code",
   "execution_count": 10,
   "id": "40a7a6d8",
   "metadata": {},
   "outputs": [
    {
     "name": "stdout",
     "output_type": "stream",
     "text": [
      "6 < 28 < 83 < 38 < 86 < 20 < 83 < ...\n",
      "6 < 28 < 38 < 86 < 20 < ...\n",
      "83 < 83 < ...\n"
     ]
    }
   ],
   "source": [
    "from file import File, creer_file\n",
    "from random import randint\n",
    "\n",
    "F = creer_file()\n",
    "for _ in range(randint(5,10)):\n",
    "    F.enfiler(randint(1,100))\n",
    "    \n",
    "print(F)\n",
    "G = creer_file()\n",
    "H = creer_file()\n",
    "\n",
    "while not F.est_vide():\n",
    "    x=F.defiler()\n",
    "    if x % 2 == 1:\n",
    "        G.enfiler(x)\n",
    "    else:\n",
    "        H.enfiler(x)\n",
    "while not H.est_vide():\n",
    "    F.enfiler(H.defiler())\n",
    "    \n",
    "print(F)\n",
    "print(G)"
   ]
  },
  {
   "cell_type": "markdown",
   "id": "678e7b83",
   "metadata": {},
   "source": [
    "### Exercice 5"
   ]
  },
  {
   "cell_type": "code",
   "execution_count": 11,
   "id": "37946f3c",
   "metadata": {},
   "outputs": [
    {
     "name": "stdout",
     "output_type": "stream",
     "text": [
      "27 < 82 < 41 < 124 < 62 < 31 < 94 < 47 < 142 < 71 < 214 < 107 < 322 < 161 < 484 < 242 < 121 < 364 < 182 < 91 < 274 < 137 < 412 < 206 < 103 < 310 < 155 < 466 < 233 < 700 < 350 < 175 < 526 < 263 < 790 < 395 < 1186 < 593 < 1780 < 890 < 445 < 1336 < 668 < 334 < 167 < 502 < 251 < 754 < 377 < 1132 < 566 < 283 < 850 < 425 < 1276 < 638 < 319 < 958 < 479 < 1438 < 719 < 2158 < 1079 < 3238 < 1619 < 4858 < 2429 < 7288 < 3644 < 1822 < 911 < 2734 < 1367 < 4102 < 2051 < 6154 < 3077 < 9232 < 4616 < 2308 < 1154 < 577 < 1732 < 866 < 433 < 1300 < 650 < 325 < 976 < 488 < 244 < 122 < 61 < 184 < 92 < 46 < 23 < 70 < 35 < 106 < 53 < 160 < 80 < 40 < 20 < 10 < 5 < 16 < 8 < 4 < 2 < 1 < ...\n",
      "Le temps de vol pour N=27 est 111.\n",
      "Le temps de vol en altitude pour N=27 est 95.\n",
      "L'altitude maximale pour N=27 est 9232.\n"
     ]
    },
    {
     "data": {
      "image/png": "[encoded data removed]",
      "text/plain": [
       "<Figure size 432x288 with 1 Axes>"
      ]
     },
     "metadata": {
      "needs_background": "light"
     },
     "output_type": "display_data"
    }
   ],
   "source": [
    "from file import File, creer_file\n",
    "from matplotlib import pyplot as plt\n",
    "\n",
    "S=creer_file()\n",
    "\n",
    "def syracuse(n):\n",
    "    S.enfiler(n)\n",
    "    while n != 1:\n",
    "        if n % 2 == 0:\n",
    "            n = n // 2\n",
    "            S.enfiler(n)\n",
    "        else:\n",
    "            n = 3*n + 1\n",
    "            S.enfiler(n)\n",
    "\n",
    "\n",
    "def temps_de_vol(file):\n",
    "    tdv = 0\n",
    "    x = file.defiler()\n",
    "    while x != 1:\n",
    "        file.enfiler(x)\n",
    "        tdv += 1\n",
    "        x = file.defiler()\n",
    "    file.enfiler(x)\n",
    "    return tdv\n",
    "\n",
    "\n",
    "def temps_de_vol_altitude(file):\n",
    "    tdva = 0\n",
    "    n = file.defiler()\n",
    "    file.enfiler(n)\n",
    "    x = file.defiler()\n",
    "    while x > n:\n",
    "        tdva += 1\n",
    "        file.enfiler(x)\n",
    "        x = file.defiler()\n",
    "    while x != 1:\n",
    "        file.enfiler(x)\n",
    "        x = file.defiler()\n",
    "    file.enfiler(x)\n",
    "    return tdva\n",
    "            \n",
    "def altitude_maximale(file):\n",
    "    h = file.defiler()\n",
    "    file.enfiler(h)\n",
    "    x = file.defiler()\n",
    "    while x != 1:\n",
    "        if x > h:\n",
    "            h = x\n",
    "        file.enfiler(x)\n",
    "        x = file.defiler()\n",
    "    file.enfiler(x)\n",
    "    return h\n",
    "\n",
    "def graphik(file):\n",
    "    if not file.est_vide():\n",
    "        y = file.defiler()\n",
    "        file.enfiler(y)\n",
    "    n=1\n",
    "    Y=[y]\n",
    "    while y != 1:\n",
    "        y = file.defiler()\n",
    "        Y.append(y)\n",
    "        n += 1\n",
    "        file.enfiler(y)\n",
    "    file.enfiler(y)\n",
    "    X=[i for i in range(n)]\n",
    "    plt.plot(X,Y)\n",
    "    return plt\n",
    "\n",
    "N=27\n",
    "syracuse(N)\n",
    "print(S)\n",
    "print(\"Le temps de vol pour N=%s est %s.\" % (N,temps_de_vol(S)))\n",
    "print(\"Le temps de vol en altitude pour N=%s est %s.\" % (N,temps_de_vol_altitude(S)))\n",
    "print(\"L'altitude maximale pour N=%s est %s.\" % (N,altitude_maximale(S)))\n",
    "g=graphik(S)\n",
    "#g.show()\n"
   ]
  },
  {
   "cell_type": "code",
   "execution_count": null,
   "id": "85923a94",
   "metadata": {},
   "outputs": [],
   "source": []
  }
 ],
 "metadata": {
  "kernelspec": {
   "display_name": "Python 3",
   "language": "python",
   "name": "python3"
  },
  "language_info": {
   "codemirror_mode": {
    "name": "ipython",
    "version": 3
   },
   "file_extension": ".py",
   "mimetype": "text/x-python",
   "name": "python",
   "nbconvert_exporter": "python",
   "pygments_lexer": "ipython3",
   "version": "3.9.4"
  }
 },
 "nbformat": 4,
 "nbformat_minor": 5
}
