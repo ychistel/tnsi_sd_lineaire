{
 "cells": [
  {
   "cell_type": "code",
   "execution_count": 1,
   "metadata": {},
   "outputs": [],
   "source": [
    "def creer_liste():\n",
    "    return ()\n",
    "\n",
    "def est_vide(liste):\n",
    "    return liste == ()\n",
    "\n",
    "def inserer(liste, element):\n",
    "    return (element, liste)\n",
    "\n",
    "def tete(liste):\n",
    "    assert not est_vide(liste), \"tête, liste vide !\"\n",
    "    element, _ = liste\n",
    "    return element\n",
    "\n",
    "def queue(liste):\n",
    "    assert not est_vide(liste), \"queue, liste vide !\"\n",
    "    _,queue = liste\n",
    "    return queue"
   ]
  },
  {
   "cell_type": "code",
   "execution_count": 2,
   "metadata": {},
   "outputs": [],
   "source": [
    "L1 = creer_liste()\n",
    "L1 = inserer(L1,7)\n",
    "L1 = inserer(L1,5)\n",
    "L1 = inserer(L1,8)\n",
    "L1 = inserer(L1,3)"
   ]
  },
  {
   "cell_type": "code",
   "execution_count": 3,
   "metadata": {},
   "outputs": [
    {
     "name": "stdout",
     "output_type": "stream",
     "text": [
      "(3, (8, (5, (7, ()))))\n"
     ]
    }
   ],
   "source": [
    "print(L1)"
   ]
  },
  {
   "cell_type": "code",
   "execution_count": 4,
   "metadata": {},
   "outputs": [],
   "source": [
    "def afficher(liste):\n",
    "    chaine = \"\"\n",
    "    while not est_vide(liste):\n",
    "        tete, liste = liste\n",
    "        chaine += \"[\" + str(tete) + \"]->\"\n",
    "    chaine += \"[]\"\n",
    "    return chaine"
   ]
  },
  {
   "cell_type": "code",
   "execution_count": 5,
   "metadata": {},
   "outputs": [
    {
     "data": {
      "text/plain": [
       "'[3]->[8]->[5]->[7]->[]'"
      ]
     },
     "execution_count": 5,
     "metadata": {},
     "output_type": "execute_result"
    }
   ],
   "source": [
    "afficher(L1)"
   ]
  },
  {
   "cell_type": "code",
   "execution_count": 6,
   "metadata": {},
   "outputs": [],
   "source": [
    "def longueur (liste):\n",
    "    i=0\n",
    "    while not est_vide(liste):\n",
    "        tete,liste=liste\n",
    "        i=i+1\n",
    "        \n",
    "    return i"
   ]
  },
  {
   "cell_type": "code",
   "execution_count": 7,
   "metadata": {},
   "outputs": [
    {
     "data": {
      "text/plain": [
       "4"
      ]
     },
     "execution_count": 7,
     "metadata": {},
     "output_type": "execute_result"
    }
   ],
   "source": [
    "longueur (L1)"
   ]
  },
  {
   "cell_type": "code",
   "execution_count": 19,
   "metadata": {},
   "outputs": [],
   "source": [
    "def atteint(liste,n):\n",
    "    if n >= longueur(liste):\n",
    "        return None\n",
    "    while not est_vide(liste) and n >= 0 :\n",
    "        t,liste = liste\n",
    "        n = n-1\n",
    "    return t"
   ]
  },
  {
   "cell_type": "code",
   "execution_count": 20,
   "metadata": {},
   "outputs": [
    {
     "data": {
      "text/plain": [
       "-1"
      ]
     },
     "execution_count": 20,
     "metadata": {},
     "output_type": "execute_result"
    }
   ],
   "source": [
    "atteint(L1,4)"
   ]
  },
  {
   "cell_type": "code",
   "execution_count": null,
   "metadata": {},
   "outputs": [],
   "source": []
  }
 ],
 "metadata": {
  "kernelspec": {
   "display_name": "Python 3",
   "language": "python",
   "name": "python3"
  }
 },
 "nbformat": 4,
 "nbformat_minor": 2
}
