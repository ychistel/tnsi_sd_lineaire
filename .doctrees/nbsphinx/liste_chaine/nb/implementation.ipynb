{
 "cells": [
  {
   "cell_type": "markdown",
   "id": "2343d8fd",
   "metadata": {},
   "source": [
    "# Implémentation\n",
    "\n",
    "L'implémentation d'une liste, dite chainée, peut se réaliser avec des tuples."
   ]
  },
  {
   "cell_type": "code",
   "execution_count": 1,
   "id": "95f4b1fb",
   "metadata": {},
   "outputs": [],
   "source": [
    "def creer_liste():\n",
    "    return ()\n",
    "\n",
    "def est_vide(liste):\n",
    "    return liste == ()\n",
    "\n",
    "def inserer(liste, element):\n",
    "    return (element, liste)\n",
    "\n",
    "def tete(liste):\n",
    "    assert not est_vide(liste), \"tête, liste vide !\"\n",
    "    element, _ = liste\n",
    "    return element\n",
    "\n",
    "def queue(liste):\n",
    "    assert not est_vide(liste), \"queue, liste vide !\"\n",
    "    _,queue = liste\n",
    "    return queue"
   ]
  },
  {
   "cell_type": "code",
   "execution_count": 10,
   "id": "5039078a",
   "metadata": {},
   "outputs": [],
   "source": [
    "L = creer_liste()\n",
    "L = inserer(L, \"Alice\")\n",
    "L = inserer(L, \"Bob\")\n",
    "L = inserer(L,\"Charlie\")\n",
    "elem = tete(L)\n",
    "reste = queue(L)  "
   ]
  },
  {
   "cell_type": "code",
   "execution_count": 11,
   "id": "c2b31402",
   "metadata": {},
   "outputs": [
    {
     "name": "stdout",
     "output_type": "stream",
     "text": [
      "('Charlie', ('Bob', ('Alice', ()))) Charlie ('Bob', ('Alice', ()))\n"
     ]
    }
   ],
   "source": [
    "print(L,elem, reste)"
   ]
  },
  {
   "cell_type": "code",
   "execution_count": 24,
   "id": "4539a6aa",
   "metadata": {},
   "outputs": [],
   "source": [
    "def afficher(liste):\n",
    "    chaine = \"\"\n",
    "    while not est_vide(liste):\n",
    "        tete, liste = liste\n",
    "        chaine += \"[\" + str(tete) + \"]->\"\n",
    "    chaine += \"[]\"\n",
    "    #print(chaine)\n",
    "    return chaine"
   ]
  },
  {
   "cell_type": "code",
   "execution_count": 25,
   "id": "ea0db200",
   "metadata": {},
   "outputs": [
    {
     "data": {
      "text/plain": [
       "'[Gary]->[Charlie]->[Bob]->[Alice]->[]'"
      ]
     },
     "execution_count": 25,
     "metadata": {},
     "output_type": "execute_result"
    }
   ],
   "source": [
    "afficher(L)"
   ]
  },
  {
   "cell_type": "code",
   "execution_count": null,
   "id": "58ac3117",
   "metadata": {},
   "outputs": [],
   "source": [
    "def longueur(liste):\n",
    "    t = 0\n",
    "    while not est_vide(liste):\n",
    "        _, liste = liste\n",
    "        t += 1\n",
    "    return t"
   ]
  },
  {
   "cell_type": "code",
   "execution_count": 16,
   "id": "8edc6a12",
   "metadata": {},
   "outputs": [],
   "source": [
    "def atteint(liste,pos):\n",
    "    assert longueur(liste) > pos >= 0, \"position hors liste\"\n",
    "    i = 0\n",
    "    while not est_vide(liste) and i <= pos:\n",
    "        tete, liste = liste\n",
    "        i += 1\n",
    "    return tete"
   ]
  },
  {
   "cell_type": "code",
   "execution_count": 22,
   "id": "e34e8c56",
   "metadata": {},
   "outputs": [
    {
     "name": "stdout",
     "output_type": "stream",
     "text": [
      "Gary\n",
      "Charlie\n",
      "Bob\n",
      "Alice\n"
     ]
    }
   ],
   "source": [
    "L = inserer(L,'Gary')\n",
    "n = longueur(L)\n",
    "for i in range(n):\n",
    "    print(atteint(L,i))"
   ]
  },
  {
   "cell_type": "code",
   "execution_count": 26,
   "id": "a0981e03",
   "metadata": {},
   "outputs": [
    {
     "data": {
      "text/plain": [
       "'[Gary]->[Charlie]->[Bob]->[Alice]->[]'"
      ]
     },
     "execution_count": 26,
     "metadata": {},
     "output_type": "execute_result"
    }
   ],
   "source": [
    "afficher(L)"
   ]
  },
  {
   "cell_type": "code",
   "execution_count": 27,
   "id": "71df237a",
   "metadata": {},
   "outputs": [
    {
     "data": {
      "text/plain": [
       "'[Bob]->[Alice]->[Patrick]->[Gary]->[Carlo]->[]'"
      ]
     },
     "execution_count": 27,
     "metadata": {},
     "output_type": "execute_result"
    }
   ],
   "source": [
    "L = creer_liste()\n",
    "L = inserer(L, \"Carlo\")\n",
    "L = inserer(L,\"Gary\")\n",
    "L = inserer(L,\"Patrick\")\n",
    "L = inserer(L,\"Alice\")\n",
    "L = inserer(L, \"Bob\")\n",
    "afficher(L)"
   ]
  },
  {
   "cell_type": "code",
   "execution_count": 28,
   "id": "c16c6fb9",
   "metadata": {},
   "outputs": [],
   "source": [
    "def renverse(liste):\n",
    "    liste_renverse = creer_liste()\n",
    "    while not est_vide(liste):\n",
    "        tete, liste = liste\n",
    "        liste_renverse = inserer(liste_renverse,tete)\n",
    "    return liste_renverse"
   ]
  },
  {
   "cell_type": "code",
   "execution_count": 29,
   "id": "3c216582",
   "metadata": {},
   "outputs": [
    {
     "data": {
      "text/plain": [
       "'[Carlo]->[Gary]->[Patrick]->[Alice]->[Bob]->[]'"
      ]
     },
     "execution_count": 29,
     "metadata": {},
     "output_type": "execute_result"
    }
   ],
   "source": [
    "K = renverse(L)\n",
    "afficher(K)"
   ]
  },
  {
   "cell_type": "code",
   "execution_count": 36,
   "id": "abb609f3",
   "metadata": {},
   "outputs": [],
   "source": [
    "def inserer_fin(liste, valeur) :\n",
    "    tmp = creer_liste()\n",
    "    tmp = inserer(tmp,valeur)\n",
    "    liste = renverse(liste)\n",
    "    while not est_vide(liste):\n",
    "        tete, liste = liste\n",
    "        tmp = inserer(tmp, tete)\n",
    "    return tmp"
   ]
  },
  {
   "cell_type": "code",
   "execution_count": 37,
   "id": "1e34477a",
   "metadata": {},
   "outputs": [
    {
     "data": {
      "text/plain": [
       "'[Bob]->[Alice]->[Patrick]->[Gary]->[Carlo]->[Krabs]->[]'"
      ]
     },
     "execution_count": 37,
     "metadata": {},
     "output_type": "execute_result"
    }
   ],
   "source": [
    "L=inserer_fin(L,'Krabs')\n",
    "afficher(L)"
   ]
  },
  {
   "cell_type": "code",
   "execution_count": 1,
   "id": "de6dcf37",
   "metadata": {},
   "outputs": [],
   "source": [
    "def elements_liste(liste):\n",
    "    res = []\n",
    "    while not liste_vide(liste):\n",
    "        tete, liste = liste\n",
    "        res.append(tete)\n",
    "    return res"
   ]
  }
 ],
 "metadata": {
  "kernelspec": {
   "display_name": "Python 3",
   "language": "python",
   "name": "python3"
  },
  "language_info": {
   "codemirror_mode": {
    "name": "ipython",
    "version": 3
   },
   "file_extension": ".py",
   "mimetype": "text/x-python",
   "name": "python",
   "nbconvert_exporter": "python",
   "pygments_lexer": "ipython3",
   "version": "3.9.4"
  }
 },
 "nbformat": 4,
 "nbformat_minor": 5
}
