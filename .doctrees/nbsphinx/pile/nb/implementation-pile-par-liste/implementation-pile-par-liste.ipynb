{
 "cells": [
  {
   "cell_type": "markdown",
   "metadata": {},
   "source": [
    "# Implémentation d'une pile par des listes"
   ]
  },
  {
   "cell_type": "code",
   "execution_count": 2,
   "metadata": {},
   "outputs": [],
   "source": [
    "def creer_pile():\n",
    "    return []\n",
    "\n",
    "def est_vide(p):\n",
    "    return p == []\n",
    "\n",
    "def empiler(p,e):\n",
    "    p.append(e)\n",
    "    return p\n",
    "\n",
    "def depiler(p):\n",
    "    sommet = p.pop()\n",
    "    return sommet"
   ]
  },
  {
   "cell_type": "markdown",
   "metadata": {},
   "source": [
    "# Application"
   ]
  },
  {
   "cell_type": "code",
   "execution_count": 6,
   "metadata": {},
   "outputs": [],
   "source": [
    "P = creer_pile()\n",
    "P = empiler(P,9)\n",
    "P = empiler(P,6)\n",
    "P = empiler(P,4)\n",
    "depiler(P)\n",
    "P = empiler(P,2)\n",
    "P = empiler(P,7)\n",
    "while not est_vide(P):\n",
    "    depiler(P)"
   ]
  },
  {
   "cell_type": "markdown",
   "metadata": {},
   "source": [
    "# Exercice 2\n",
    "\n",
    "Renverser le contenu d'une pile dans la même pile en utilisant que des piles. Cela implique que les seules actions possibles sont celles définies par l'interface : empiler et depiler."
   ]
  },
  {
   "cell_type": "code",
   "execution_count": 10,
   "metadata": {},
   "outputs": [
    {
     "name": "stdout",
     "output_type": "stream",
     "text": [
      "[1, 2, 3, 4, 5, 6, 7, 8, 9, 10]\n",
      "[10, 9, 8, 7, 6, 5, 4, 3, 2, 1]\n"
     ]
    }
   ],
   "source": [
    "# initialisation de la pile P\n",
    "P = creer_pile()\n",
    "for i in range(10):\n",
    "    P = empiler(P,i+1)\n",
    "\n",
    "def renverse(pile):\n",
    "    Q = creer_pile()\n",
    "    T = creer_pile()\n",
    "    while not est_vide(pile):\n",
    "        Q = empiler(Q,depiler(pile))\n",
    "    while not est_vide(Q):\n",
    "        T = empiler(T,depiler(Q))\n",
    "    while not est_vide(T):\n",
    "        pile = empiler(pile,depiler(T))\n",
    "    return pile\n",
    "\n",
    "print(P)\n",
    "P = renverse(P)\n",
    "print(P)"
   ]
  },
  {
   "cell_type": "markdown",
   "metadata": {},
   "source": [
    "# Exercice 3\n",
    "\n",
    "Créer deux fonctions *somme* et *hauteur* qui renvoient la somme des valeurs de la pile et le nombre d'éléments dans la pile."
   ]
  },
  {
   "cell_type": "code",
   "execution_count": 17,
   "metadata": {},
   "outputs": [
    {
     "name": "stdout",
     "output_type": "stream",
     "text": [
      "[1, 2, 3, 4, 5]\n"
     ]
    }
   ],
   "source": [
    "# initialisation de la pile P\n",
    "P = creer_pile()\n",
    "for i in range(5):\n",
    "    P = empiler(P,i+1)\n",
    "print(P)"
   ]
  },
  {
   "cell_type": "code",
   "execution_count": 8,
   "metadata": {},
   "outputs": [
    {
     "data": {
      "text/plain": [
       "15"
      ]
     },
     "execution_count": 8,
     "metadata": {},
     "output_type": "execute_result"
    }
   ],
   "source": [
    "def somme(pile):\n",
    "    somme_valeurs = 0\n",
    "    while not est_vide(pile):\n",
    "        sommet = depiler(pile)\n",
    "        somme_valeurs += sommet\n",
    "    return somme_valeurs\n",
    "\n",
    "somme(P)"
   ]
  },
  {
   "cell_type": "code",
   "execution_count": 4,
   "metadata": {},
   "outputs": [],
   "source": [
    "def hauteur(pile):\n",
    "    hauteur = 0\n",
    "    while not est_vide(pile):\n",
    "        depiler(pile)\n",
    "        hauteur += 1\n",
    "    return hauteur"
   ]
  },
  {
   "cell_type": "code",
   "execution_count": 5,
   "metadata": {},
   "outputs": [
    {
     "data": {
      "text/plain": [
       "5"
      ]
     },
     "execution_count": 5,
     "metadata": {},
     "output_type": "execute_result"
    }
   ],
   "source": [
    "hauteur(P)"
   ]
  },
  {
   "cell_type": "code",
   "execution_count": 20,
   "metadata": {},
   "outputs": [
    {
     "name": "stdout",
     "output_type": "stream",
     "text": [
      "[1, 2, 3, 4, 5]\n"
     ]
    },
    {
     "data": {
      "text/plain": [
       "(15, [1, 2, 3, 4, 5])"
      ]
     },
     "execution_count": 20,
     "metadata": {},
     "output_type": "execute_result"
    }
   ],
   "source": [
    "# initialisation de la pile P\n",
    "P = creer_pile()\n",
    "for i in range(5):\n",
    "    P = empiler(P,i+1)\n",
    "print(P)\n",
    "\n",
    "def somme(pile):\n",
    "    Q = creer_pile()\n",
    "    somme_valeurs = 0\n",
    "    while not est_vide(pile):\n",
    "        sommet = depiler(pile)\n",
    "        Q = empiler(Q,sommet)\n",
    "        somme_valeurs += sommet\n",
    "    while not est_vide(Q):\n",
    "        pile = empiler(pile,depiler(Q))\n",
    "    return somme_valeurs\n",
    "\n",
    "somme(P),P"
   ]
  },
  {
   "cell_type": "code",
   "execution_count": 21,
   "metadata": {},
   "outputs": [
    {
     "name": "stdout",
     "output_type": "stream",
     "text": [
      "[1, 2, 3, 4, 5]\n"
     ]
    },
    {
     "data": {
      "text/plain": [
       "(5, [1, 2, 3, 4, 5])"
      ]
     },
     "execution_count": 21,
     "metadata": {},
     "output_type": "execute_result"
    }
   ],
   "source": [
    "# initialisation de la pile P\n",
    "P = creer_pile()\n",
    "for i in range(5):\n",
    "    P = empiler(P,i+1)\n",
    "print(P)\n",
    "\n",
    "def hauteur(pile):\n",
    "    Q = creer_pile()\n",
    "    hauteur = 0\n",
    "    while not est_vide(pile):\n",
    "        Q = empiler(Q,depiler(pile))\n",
    "        hauteur += 1\n",
    "    # on réempile la pile avec les valeurs de Q\n",
    "    while not est_vide(Q):\n",
    "        pile = empiler(pile,depiler(Q))\n",
    "    return hauteur\n",
    "\n",
    "hauteur(P),P"
   ]
  },
  {
   "cell_type": "code",
   "execution_count": null,
   "metadata": {},
   "outputs": [],
   "source": []
  }
 ],
 "metadata": {
  "kernelspec": {
   "display_name": "Python 3",
   "language": "python",
   "name": "python3"
  }
 },
 "nbformat": 4,
 "nbformat_minor": 2
}
