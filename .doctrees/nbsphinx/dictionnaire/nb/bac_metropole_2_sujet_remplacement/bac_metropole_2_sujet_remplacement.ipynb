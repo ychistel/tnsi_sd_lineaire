{
 "cells": [
  {
   "cell_type": "markdown",
   "metadata": {},
   "source": [
    "## Exercice 2"
   ]
  },
  {
   "cell_type": "code",
   "execution_count": 9,
   "metadata": {},
   "outputs": [],
   "source": [
    "liaisonsJoueur1 = [\n",
    "    [\"Toulouse\",\"Muret\"],[\"Toulouse\",\"Montauban\"],[\"Gaillac\",\"St Sulpice\"],[\"Muret\",\"Pamiers\"]\n",
    "]"
   ]
  },
  {
   "cell_type": "code",
   "execution_count": 10,
   "metadata": {},
   "outputs": [],
   "source": [
    "def construireDict(listeLiaisons):\n",
    "    \"\"\"\n",
    "    listeLiaisons est un tableau de tableaux représentant la\n",
    "    liste des liaisons d'un joueur comme décrit dans le problème\n",
    "    \"\"\"\n",
    "    Dict={}\n",
    "    for liaison in listeLiaisons:\n",
    "        villeA = liaison[0]\n",
    "        villeB = liaison[1]\n",
    "        if not villeA in Dict.keys():\n",
    "            Dict[villeA] = [villeB]\n",
    "        else:\n",
    "            destinationsA = Dict[villeA]\n",
    "            if not villeB in destinationsA:\n",
    "                destinationsA.append(villeB)\n",
    "    return Dict"
   ]
  },
  {
   "cell_type": "code",
   "execution_count": 11,
   "metadata": {},
   "outputs": [
    {
     "name": "stdout",
     "output_type": "stream",
     "text": [
      "{'Toulouse': ['Muret', 'Montauban'], 'Gaillac': ['St Sulpice'], 'Muret': ['Pamiers']}\n"
     ]
    }
   ],
   "source": [
    "DictJoueur1 = construireDict(liaisonsJoueur1)\n",
    "print(DictJoueur1)"
   ]
  },
  {
   "cell_type": "code",
   "execution_count": 27,
   "metadata": {},
   "outputs": [],
   "source": [
    "def construireDict(listeLiaisons):\n",
    "    \"\"\"\n",
    "    listeLiaisons est un tableau de tableaux représentant la\n",
    "    liste des liaisons d'un joueur comme décrit dans le problème\n",
    "    \"\"\"\n",
    "    assert listeLiaisons != []\n",
    "    Dict={}\n",
    "    for liaison in listeLiaisons:\n",
    "        villeA = liaison[0]\n",
    "        villeB = liaison[1]\n",
    "        if not villeA in Dict.keys():\n",
    "            Dict[villeA] = [villeB]\n",
    "        else:\n",
    "            destinationsA = Dict[villeA]\n",
    "            if not villeB in destinationsA:\n",
    "                destinationsA.append(villeB)\n",
    "        if not villeB in Dict.keys():\n",
    "            Dict[villeB] = [villeA]\n",
    "        else:\n",
    "            destinationsB = Dict[villeB]\n",
    "            if not villeA in destinationsB:\n",
    "                destinationsB.append(villeA)\n",
    "    return Dict"
   ]
  },
  {
   "cell_type": "code",
   "execution_count": 28,
   "metadata": {},
   "outputs": [
    {
     "name": "stdout",
     "output_type": "stream",
     "text": [
      "{'Toulouse': ['Muret', 'Montauban'], 'Muret': ['Toulouse', 'Pamiers'], 'Montauban': ['Toulouse'], 'Gaillac': ['St Sulpice'], 'St Sulpice': ['Gaillac'], 'Pamiers': ['Muret']}\n"
     ]
    }
   ],
   "source": [
    "DictJoueur1 = {}\n",
    "DictJoueur1 = construireDict(liaisonsJoueur1)\n",
    "print(DictJoueur1)"
   ]
  },
  {
   "cell_type": "code",
   "execution_count": 29,
   "metadata": {},
   "outputs": [],
   "source": [
    "def construireDict(listeLiaisons):\n",
    "    \"\"\"\n",
    "    listeLiaisons est un tableau de tableaux représentant la\n",
    "    liste des liaisons d'un joueur comme décrit dans le problème\n",
    "    \"\"\"\n",
    "    assert listeLiaisons != []\n",
    "    \n",
    "    def construire(villeA:str, villeB:str)->dict:\n",
    "        if not villeA in Dict.keys():\n",
    "            Dict[villeA] = [villeB]\n",
    "        else:\n",
    "            destinationsA = Dict[villeA]\n",
    "            if not villeB in destinationsA:\n",
    "                destinationsA.append(villeB)\n",
    "    \n",
    "    Dict={}\n",
    "    for liaison in listeLiaisons:\n",
    "        villeA = liaison[0]\n",
    "        villeB = liaison[1]\n",
    "        construire(villeA,villeB)\n",
    "        construire(villeB, villeA)\n",
    "    return Dict"
   ]
  },
  {
   "cell_type": "code",
   "execution_count": 30,
   "metadata": {},
   "outputs": [
    {
     "name": "stdout",
     "output_type": "stream",
     "text": [
      "{'Toulouse': ['Muret', 'Montauban'], 'Muret': ['Toulouse', 'Pamiers'], 'Montauban': ['Toulouse'], 'Gaillac': ['St Sulpice'], 'St Sulpice': ['Gaillac'], 'Pamiers': ['Muret']}\n"
     ]
    }
   ],
   "source": [
    "DictJoueur1 = {}\n",
    "DictJoueur1 = construireDict(liaisonsJoueur1)\n",
    "print(DictJoueur1)"
   ]
  },
  {
   "cell_type": "code",
   "execution_count": null,
   "metadata": {},
   "outputs": [],
   "source": []
  }
 ],
 "metadata": {
  "kernelspec": {
   "display_name": "Python 3",
   "language": "python",
   "name": "python3"
  },
  "language_info": {
   "codemirror_mode": {
    "name": "ipython",
    "version": 3
   },
   "file_extension": ".py",
   "mimetype": "text/x-python",
   "name": "python",
   "nbconvert_exporter": "python",
   "pygments_lexer": "ipython3",
   "version": "3.9.4"
  }
 },
 "nbformat": 4,
 "nbformat_minor": 2
}
