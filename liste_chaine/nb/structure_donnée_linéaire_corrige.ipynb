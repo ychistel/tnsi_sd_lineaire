{
 "cells": [
  {
   "cell_type": "markdown",
   "id": "6550eac4",
   "metadata": {},
   "source": [
    "# Structure de données\n",
    "\n",
    "## Type de données\n",
    "\n",
    "Les données ont un type défini par le langage de programmation.\n",
    "On a les types simples comme:\n",
    "- les nombres entiers sont de type **int** pour **integer** (entier);\n",
    "- les nombres flottants représentant les nombres réels sont de type **float**;\n",
    "- les chaines de caractères, notées entre les simples ou doubles quote (guillemets) sont de type **string**;\n",
    "- les booléens qui prennent 2 valeurs : **True**, **False** ou alors **0**, **1**.\n",
    "\n",
    "Certains types de données sont plus complexes, rassemble plusieurs données dans une même structure. Par exemple:\n",
    "- les tableaux ou listes (en python) de type **list**;\n",
    "- les dictionnaires (ou tableaux associatifs) qui sont de type **dict**\n",
    "\n",
    "Des **opérations** sur les types de données sont définies. \n",
    "- Pour les types **int** et **float**, on a les 4 opérations mathématiques. \n",
    "- Pour les chaines de caratères, on a la concaténation, les opérations d'encodage, la mise en forme, etc.\n",
    "- Pour les booléens, on a les opérations logiques **and**, **or** et **not**.\n",
    "\n",
    "Pour les types structurés comme les les listes et les dictionnaires, on dispose de méthodes (fonctions) qui permettent d'agir sur les données qu'elles contiennent.\n",
    "\n",
    "En python, les listes et les dictionnaires disposent des méthodes de suppression, d'ajout, d'accès à une valeur souhaitée, etc. \n",
    "\n",
    "L'ensemble de ces méthodes constitue **l'interface** de la structure de données.\n",
    "\n",
    "Ces types et structures de données sont complétés par des **structures de données construits** pour répondre à des problématiques particulières. Nous allons en étudier plusieurs comme la pile, la file et les listes chainées."
   ]
  },
  {
   "cell_type": "markdown",
   "id": "00c05667",
   "metadata": {},
   "source": [
    "## La pile\n",
    "\n",
    "Une **pile** est une **structure de données** pour laquelle on accède uniquement au dernier élément ajouté nommé **sommet de la pile**. Cette structure de donnée est dite **LIFO** pour **Last In First Out** (premier arrivé, dernier sorti).\n",
    "\n",
    "On représente souvent une pile de façon verticale comme une pile d'assiettes.\n",
    "\n",
    "![schéma d'une pile](../img/piles1.png)\n",
    "\n",
    "### Interface d'une pile\n",
    "\n",
    "L'interface d'une pile se compose principalement des méthodes suivantes :\n",
    "- Créer une pile vide, sans contenu;\n",
    "- Empiler une pile c'est à dire ajouter un nouvel élément au sommet de la pile;\n",
    "- Dépiler une pile c'est à dire renvoyer le sommet de la pile en le supprimant de la pile;\n",
    "\n",
    "On y ajoute parfois les méthodes suivantes:\n",
    "- Tester si une pile est vide;\n",
    "- Accéder au sommet de la pile (sans dépiler), c'est à dire renvoyer la valeur du sommet de la pile sans le supprimer;\n",
    "- Connaitre le nombre d'éléments d'une pile appelée **hauteur** de la pile;\n",
    "- Afficher le contenu d'une pile avec **print** ou une méthode dédiée.\n",
    "\n",
    "### Implémentation d'une pile\n",
    "\n",
    "**L'implémentation** d'une pile peut se réaliser de différentes manières en python. La pile n'existe pas nativement dans le langage. Par contre, quel que soit l'implémentation choisie pour une pile, l'interface reste la seule définition de la pile.\n",
    "\n",
    "Les listes pythons disposent de fonctions et de méthodes pour réaliser l'interface d'une pile. On peut programmer  un script en python regroupant les différentes méthodes et fonctions qui réalisent l'interface d'une pile.\n",
    "\n",
    "### Exercice\n",
    "\n",
    "*Cet exercice doit être cherché sur feuille avant de le programmer en python*\n",
    "\n",
    "On considère une pile **P** contenant dans cet ordre les nombres entiers 17, 9, 12 et 8; Le nombre 17 est le sommet de la pile.\n",
    "\n",
    "On définit l'interface de la pile avec les fonctions suivantes :\n",
    "- Créer_pile() qui crée une pile vide;\n",
    "- Empiler(valeur) qui ajoute une valeur au sommet de la pile;\n",
    "- Dépiler() qui supprime le sommet de la pile en renvoyant sa valeur;\n",
    "- Pile_vide() qui teste si la pile est vide.\n",
    "\n",
    "On pourra afficher le contenu de la pile avec **print**.\n",
    "\n",
    "1. Représenter cette pile **P** par un schéma.\n",
    "2. On empile la valeur 31. Quel est le contenu de la pile **P** ?\n",
    "3. On dépile la pile **P**. Quel est son contenu ?\n",
    "4. Écrire, en python la suite d'instructions qui permet de créer la pile P.\n",
    "5. Écrire un algorithme qui dépile la pile **P** tant qu'elle n'est pas vide."
   ]
  },
  {
   "cell_type": "code",
   "execution_count": null,
   "id": "ba52183e",
   "metadata": {},
   "outputs": [],
   "source": [
    "\"\"\"\n",
    "Pour importer le module Pile, il faut récupérer le fichier pile.py et l'installer dans le même répertoire\n",
    "que votre fichier python ou notebook jupyter.\n",
    "\n",
    "Ensuite, l'import se fait avec la commande:\n",
    "from pile import *\n",
    "\"\"\"\n"
   ]
  },
  {
   "cell_type": "markdown",
   "id": "db6396d5",
   "metadata": {},
   "source": [
    "## La file\n",
    "\n",
    "Une **file** est une structure de données pour laquelle on accède uniquement au premier élément ajouté nommé **tête de file**. Une file est une structure dite **FIFO** signifiant **FIRST IN, FIRST OUT** se traduisant par premier arrivé, premier sorti.\n",
    "\n",
    "On représente souvent une file de façon horizontale comme une file d'attente.\n",
    "\n",
    "![schéma d'une file](../img/files1.png)\n",
    "\n",
    "### Interface\n",
    "\n",
    "L'interface d'une file se compose principalement des méthodes suivantes:\n",
    "- Créer une file vide, c'est à dire sans contenu;\n",
    "- Enfiler une file c'est à dire ajouter un nouvel élément dans la file;\n",
    "- Défiler une file, c'est à dire retirer un élément de la file en récupérant sa valeur.\n",
    "\n",
    "On y ajoute parfois les fonctions suivantes:\n",
    "- Tester si une file est vide;\n",
    "- Aaccéder à la tête de la file (sans défiler), c'est à dire sans supprimer l'élément;\n",
    "- Connaitre le nombre d'éléments d'une file appelée **longueur** de la file;\n",
    "- Afficher le contenu d'une file avec **print** ou une méthode dédiée.\n",
    "\n",
    "### Implémentation\n",
    "\n",
    "Comme pour les piles, les méthodes et les fonctions sur les listes python permettent de réaliser l'interface d'une file avec les listes python. On peut également programmer un script qui réalise l'interface d'une file.\n",
    "\n",
    "### Exercice\n",
    "\n",
    "On considère une file **F** contenant dans l'ordre les nombres 1, 11, 111 et 1111; le nombre 1 est la tête de la file.\n",
    "\n",
    "On définit l'interface de la file avec les fonctions et méthodes suivantes :\n",
    "- Créer_file() qui crée une file vide : `F = creer_file()`\n",
    "- Enfiler(valeur) qui ajoute une valeur à la file : `F.enfiler(1)`\n",
    "- Défiler() qui supprime la tête de la file en renvoyant sa valeur : `F.defiler()`\n",
    "- Est_vide() qui teste si la file est vide : `F.est_vide()` qui renvoie vrai ici.\n",
    "\n",
    "1. Représenter par un schéma la file **F**.\n",
    "2. On enfile la valeur 11111. Quel est le contenu de la file **F** ?\n",
    "3. On défile la file **F**. Quel est son contenu ?\n",
    "4. Écrire la suite d'instructions qui permet de créer la file **F**.\n",
    "5. Écrire un algorithme qui défile la file **F** tant qu'elle n'est pas vide.\n"
   ]
  },
  {
   "cell_type": "markdown",
   "id": "26c53f8c",
   "metadata": {},
   "source": [
    "## Liste chainée\n",
    "\n",
    "La liste chainée ne doit pas être confondue avec la liste python (associée à un tableau dynamique). La liste chainée est une structure de données qui lie ses éléments comme les maillons d'une chaine. Chaque maillon a une valeur et en même temps se trouve relié au maillon suivant.\n",
    "\n",
    "Le **maillon** de la liste chainée est aussi appelé **cellule**.     \n",
    "On donne une représentation schématique d'une liste chainée contenant les valeurs  1, 2 et 4.\n",
    "\n",
    "![Liste chainée](../img/liste-chainee1.png)\n",
    "\n",
    "En python, les listes chainées n'existent pas nativement. Pour utiliser une telle structure de donnée, on doit écrire un script python qui réalise son interface. \n",
    "\n",
    "### Interface\n",
    "\n",
    "L'interface d'une liste chainée se compose:\n",
    "- d'une liste vide qu'on notera **nil**;\n",
    "- d'un test qui indique si la liste est vide;\n",
    "- d'un accès au premier élément de la liste, historiquement appelé **car** (langage LISP); ce premier élément pourra être désigné par **tête**;\n",
    "- d'un accès à la liste obtenue à partir de la liste initiale sans son premier élément; cette liste, historiquement appelée **cdr** (langage LISP), sera appelé **queue**;\n",
    "- d'un **constructeur** qui est une fonction permettant la création d'une liste chainée ; ce constructeur sera nommé **cons**\n",
    "\n",
    "D'autres méthodes ou fonctions peuvent compléter l'interface, comme:\n",
    "- la concaténation de deux listes chainées (relier deux listes chainées entre elles);\n",
    "- la recherche d'un élément dans une liste chainée.\n",
    "- l'insertion d'un élément dans la liste chainée;\n",
    "- la longueur d'une liste chainée.\n",
    "\n",
    "Ces fonctions supplémentaires feront l'objet d'un exercice.\n",
    "\n",
    "### Implémentation\n",
    "\n",
    "L'implémentation d'une liste chainée en Python nécessite l'écriture d'un script qui réalise l'interface. Nous utiliserons un tel script pour manipuler les listes chainées.\n",
    "\n",
    "### Exercice\n",
    "\n",
    "On reprend la liste chainée donnée en exemple:\n",
    "\n",
    "![Liste chainée](../img/liste-chainee1.png)\n",
    "\n",
    "Cette liste est constituée de trois cellules (maillons) repésentées par des rectangles. Chaque cellule se compose de 2 parties:\n",
    "- la tête (car) qui est une valeur;\n",
    "- la queue (sdr) qui est un pointeur vers une autre liste.\n",
    "\n",
    "1. Vers quelle liste pointe la dernière cellule ?\n",
    "2. Le constructeur **cons** d'une liste prend 2 arguments : la tête et la queue.    \n",
    "Comment peut-on construire, avec ce constructeur, la liste constituée par la dernière cellule de notre liste chainée ?\n",
    "3. En remontant la liste chainée, écrire la construction de la liste chainée avec le constructeur **cons**.\n",
    "4. Comment ajouter le nombre 0 au début de cette liste chainée ?"
   ]
  },
  {
   "cell_type": "markdown",
   "id": "3d2c0938",
   "metadata": {},
   "source": [
    "#### Solution\n",
    "\n",
    "1. La dernière cellule est composée de deux parties. La **tête** qui vaut ici 4 et la **queue** qui pointe vers la liste vide notée **nil**.\n",
    "2. La dernière cellule (non vide) de notre liste est elle-même une liste chainée. Notre constructeur **cons** prend en argument une tête et une queue, donc la dernière cellule sera construite avec l'instruction `cons(4,nil)`.\n",
    "3. En remontant la liste chainée, sa construction sera obtenue avec l'instruction : `cons(1, cons(2, cons(4, nil)))`.\n",
    "4. Il y a plusieurs façons d'ajouter le nombre 0 à cette liste chainée:    \n",
    "- en reconstruisant toute la liste : `cons(0, cons(1, cons(2, cons(4, nil))))`;\n",
    "- en affectant à la variable **L** notre liste chainée et en utilisant le constructeur :\n",
    "```python\n",
    "L = cons(1, cons(2, cons(4, nil)))\n",
    "L = cons(0, L)\n",
    "```"
   ]
  },
  {
   "cell_type": "markdown",
   "id": "e4d116b7",
   "metadata": {},
   "source": [
    "```python\n",
    "from pile import *\n",
    "\n",
    "# ou\n",
    "\n",
    "from pile import Pile, maillon, creer_pile\n",
    "```"
   ]
  },
  {
   "cell_type": "code",
   "execution_count": 5,
   "id": "5afdd530",
   "metadata": {},
   "outputs": [
    {
     "name": "stdout",
     "output_type": "stream",
     "text": [
      "|5|3|8|\n",
      "|5|3| 8\n"
     ]
    }
   ],
   "source": [
    "from pile import Pile, maillon, creer_pile\n",
    "\n",
    "P=creer_pile()\n",
    "P.empiler(5)\n",
    "P.empiler(3)\n",
    "P.empiler(8)\n",
    "print(P)\n",
    "x=P.depiler()\n",
    "print(P,x)"
   ]
  },
  {
   "cell_type": "code",
   "execution_count": 3,
   "id": "872adb52",
   "metadata": {},
   "outputs": [
    {
     "name": "stdout",
     "output_type": "stream",
     "text": [
      "1->2->4->nil\n"
     ]
    }
   ],
   "source": [
    "from liste_chaine import *\n",
    "\n",
    "L=cons(1,cons(2,cons(4,nil)))\n",
    "print(L)"
   ]
  },
  {
   "cell_type": "markdown",
   "id": "b5253b0f",
   "metadata": {},
   "source": [
    "## Application : tri d'une liste avec une pile\n",
    "\n",
    "Supposons que l'on souhaite trier une suite de nombres. Il existe de nombreuses méthodes de tris, plus ou moins efficace. Python dispose d'une méthode de tri adaptée à sa structure de liste. Cette méthode est **sort** et s'applique aux listes. La liste est modifiée."
   ]
  },
  {
   "cell_type": "code",
   "execution_count": 6,
   "id": "9ef159a5",
   "metadata": {},
   "outputs": [
    {
     "data": {
      "text/plain": [
       "[1, 2, 3, 4, 5, 7, 8, 9]"
      ]
     },
     "execution_count": 6,
     "metadata": {},
     "output_type": "execute_result"
    }
   ],
   "source": [
    "L=[5,9,1,7,3,4,8,2]\n",
    "L.sort()\n",
    "L"
   ]
  },
  {
   "cell_type": "markdown",
   "id": "43ee5450",
   "metadata": {},
   "source": [
    "La même liste peut être triée avec différents algorithmes:\n",
    "- le tri par sélection\n",
    "- le tri par insertion\n",
    "\n",
    "### Le tri par insertion\n",
    "\n",
    "Le principe du tri par insertion d'un tableau de nombres consiste à insérer un nombre dans une partie déjà triée. On suppose que l'on effectue un tri par ordre croissant.\n",
    "\n",
    "- Le tableau est partagé en deux parties; la première partie est triée, la seconde n'est pas encore triée.\n",
    "- soit *i* l'indice du premier élément de la partie non triée ; on compare cet élément avec les éléments de la partie triée. Tant que les éléments de la partie triée sont **supérieurs** à l'élément d'indice *i*, ceux-ci sont décalés de 1 rang (vers la droite). \n",
    "- Il y a alors une place de libre dans la partie triée dans laquelle est placé l'élément d'indice *i*.\n",
    "\n",
    "On donne un script python réalisant le tri par insertion."
   ]
  },
  {
   "cell_type": "code",
   "execution_count": 10,
   "id": "db0824d8",
   "metadata": {},
   "outputs": [
    {
     "name": "stdout",
     "output_type": "stream",
     "text": [
      "[15, 4, 19, 8, 11]\n",
      "[4, 15, 19, 8, 11]\n",
      "[4, 15, 19, 8, 11]\n",
      "[4, 8, 15, 19, 11]\n",
      "[4, 8, 11, 15, 19]\n"
     ]
    },
    {
     "data": {
      "text/plain": [
       "[4, 8, 11, 15, 19]"
      ]
     },
     "execution_count": 10,
     "metadata": {},
     "output_type": "execute_result"
    }
   ],
   "source": [
    "L=[15,4,19,8,11]\n",
    "\n",
    "def tri_par_insertion(liste):\n",
    "    print(liste)\n",
    "    for i in range(1,len(liste)):\n",
    "        x=liste[i]\n",
    "        j=i-1\n",
    "        while j>=0 and liste[j]>x:\n",
    "            liste[i]=liste[j]\n",
    "            i = j\n",
    "            j -= 1\n",
    "        liste[i]=x\n",
    "        print(liste)\n",
    "    return liste\n",
    "\n",
    "tri_par_insertion(L)"
   ]
  },
  {
   "cell_type": "code",
   "execution_count": 1,
   "id": "4a20a700",
   "metadata": {},
   "outputs": [],
   "source": [
    "from pile import *"
   ]
  },
  {
   "cell_type": "code",
   "execution_count": 2,
   "id": "7404c9a7",
   "metadata": {},
   "outputs": [
    {
     "name": "stdout",
     "output_type": "stream",
     "text": [
      "[15, 4, 19, 8, 11, 7, 13, 11, 10, 5, 3, 19]\n",
      "|15|4|\n",
      "[4, 15, 19, 8, 11, 7, 13, 11, 10, 5, 3, 19]\n",
      "|19|\n",
      "[4, 15, 19, 8, 11, 7, 13, 11, 10, 5, 3, 19]\n",
      "|19|15|8|\n",
      "[4, 8, 15, 19, 11, 7, 13, 11, 10, 5, 3, 19]\n",
      "|19|15|11|\n",
      "[4, 8, 11, 15, 19, 7, 13, 11, 10, 5, 3, 19]\n",
      "|19|15|11|8|7|\n",
      "[4, 7, 8, 11, 15, 19, 13, 11, 10, 5, 3, 19]\n",
      "|19|15|13|\n",
      "[4, 7, 8, 11, 13, 15, 19, 11, 10, 5, 3, 19]\n",
      "|19|15|13|11|\n",
      "[4, 7, 8, 11, 11, 13, 15, 19, 10, 5, 3, 19]\n",
      "|19|15|13|11|11|10|\n",
      "[4, 7, 8, 10, 11, 11, 13, 15, 19, 5, 3, 19]\n",
      "|19|15|13|11|11|10|8|7|5|\n",
      "[4, 5, 7, 8, 10, 11, 11, 13, 15, 19, 3, 19]\n",
      "|19|15|13|11|11|10|8|7|5|4|3|\n",
      "[3, 4, 5, 7, 8, 10, 11, 11, 13, 15, 19, 19]\n",
      "|19|\n",
      "[3, 4, 5, 7, 8, 10, 11, 11, 13, 15, 19, 19]\n"
     ]
    },
    {
     "data": {
      "text/plain": [
       "[3, 4, 5, 7, 8, 10, 11, 11, 13, 15, 19, 19]"
      ]
     },
     "execution_count": 2,
     "metadata": {},
     "output_type": "execute_result"
    }
   ],
   "source": [
    "L=[15,4,19,8,11,7,13,11,10,5,3,19]\n",
    "\n",
    "def tri_par_insertion(liste):\n",
    "    print(liste)\n",
    "    P=creer_pile()\n",
    "    for i in range(1,len(liste)):\n",
    "        j=i-1\n",
    "        while j>=0 and liste[j]>liste[i]:\n",
    "            P.empiler(liste[j])\n",
    "            j -= 1\n",
    "        P.empiler(liste[i])\n",
    "        print(P)\n",
    "        while not P.est_vide():\n",
    "            j +=1\n",
    "            liste[j]=P.depiler()            \n",
    "        print(liste)\n",
    "    return liste\n",
    "\n",
    "tri_par_insertion(L)"
   ]
  },
  {
   "cell_type": "code",
   "execution_count": 11,
   "id": "870535df",
   "metadata": {},
   "outputs": [],
   "source": [
    "P.empiler(3)"
   ]
  },
  {
   "cell_type": "code",
   "execution_count": 12,
   "id": "cc5f20b9",
   "metadata": {},
   "outputs": [
    {
     "name": "stdout",
     "output_type": "stream",
     "text": [
      "|3\n"
     ]
    }
   ],
   "source": [
    "print(P)"
   ]
  },
  {
   "cell_type": "code",
   "execution_count": 13,
   "id": "6ac8a39b",
   "metadata": {},
   "outputs": [
    {
     "data": {
      "text/plain": [
       "3"
      ]
     },
     "execution_count": 13,
     "metadata": {},
     "output_type": "execute_result"
    }
   ],
   "source": [
    "P.sommet.elt"
   ]
  },
  {
   "cell_type": "code",
   "execution_count": null,
   "id": "c9323b50",
   "metadata": {},
   "outputs": [],
   "source": []
  }
 ],
 "metadata": {
  "kernelspec": {
   "display_name": "Python 3",
   "language": "python",
   "name": "python3"
  },
  "language_info": {
   "codemirror_mode": {
    "name": "ipython",
    "version": 3
   },
   "file_extension": ".py",
   "mimetype": "text/x-python",
   "name": "python",
   "nbconvert_exporter": "python",
   "pygments_lexer": "ipython3",
   "version": "3.9.4"
  }
 },
 "nbformat": 4,
 "nbformat_minor": 5
}
