{
 "cells": [
  {
   "cell_type": "markdown",
   "metadata": {},
   "source": [
    "# TP sur les listes chainées en POO"
   ]
  },
  {
   "cell_type": "markdown",
   "metadata": {},
   "source": [
    "## Implémenter un maillon"
   ]
  },
  {
   "cell_type": "code",
   "execution_count": 20,
   "metadata": {},
   "outputs": [],
   "source": [
    "class Maillon:\n",
    "    def __init__(self, valeur=None, suivant=None):\n",
    "        self.valeur = valeur\n",
    "        self.suivant = suivant\n",
    "        \n",
    "    def __repr__(self):\n",
    "        if self.suivant is None:\n",
    "            return \"[\"+str(self.valeur)+\"]->\" +\"[]\"\n",
    "        else:\n",
    "            return \"[\"+str(self.valeur)+\"]->\" +str(self.suivant)"
   ]
  },
  {
   "cell_type": "code",
   "execution_count": 21,
   "metadata": {},
   "outputs": [],
   "source": [
    "m1 = Maillon(3)\n",
    "m2 = Maillon(5,m1)\n",
    "m3 = Maillon(8,m2)\n",
    "m4 = Maillon(1)"
   ]
  },
  {
   "cell_type": "code",
   "execution_count": 22,
   "metadata": {},
   "outputs": [
    {
     "name": "stdout",
     "output_type": "stream",
     "text": [
      "[1]->[8]->[5]->[3]->[]\n"
     ]
    }
   ],
   "source": [
    "m1 = Maillon(3)\n",
    "m2 = Maillon(5,m1)\n",
    "m3 = Maillon(8,m2)\n",
    "m4 = Maillon(1)\n",
    "\n",
    "# Insertion du maillon m4 en début de liste\n",
    "\n",
    "m4.suivant = m3\n",
    "print(m4)"
   ]
  },
  {
   "cell_type": "code",
   "execution_count": 23,
   "metadata": {},
   "outputs": [
    {
     "name": "stdout",
     "output_type": "stream",
     "text": [
      "[8]->[5]->[3]->[1]->[]\n"
     ]
    }
   ],
   "source": [
    "m1 = Maillon(3)\n",
    "m2 = Maillon(5,m1)\n",
    "m3 = Maillon(8,m2)\n",
    "m4 = Maillon(1)\n",
    "\n",
    "# Insertion du maillon m4 en fin de liste\n",
    "\n",
    "m1.suivant = m4\n",
    "print(m3)"
   ]
  },
  {
   "cell_type": "code",
   "execution_count": 24,
   "metadata": {},
   "outputs": [
    {
     "name": "stdout",
     "output_type": "stream",
     "text": [
      "[8]->[1]->[5]->[3]->[]\n"
     ]
    }
   ],
   "source": [
    "m1 = Maillon(3)\n",
    "m2 = Maillon(5,m1)\n",
    "m3 = Maillon(8,m2)\n",
    "m4 = Maillon(1)\n",
    "\n",
    "# Insertion du maillon m4 en milieu de liste, entre 8 et 5\n",
    "\n",
    "m4.suivant = m2\n",
    "m3.suivant = m4\n",
    "print(m3)"
   ]
  },
  {
   "cell_type": "code",
   "execution_count": 25,
   "metadata": {},
   "outputs": [
    {
     "name": "stdout",
     "output_type": "stream",
     "text": [
      "[1]->[5]->[3]->[]\n"
     ]
    }
   ],
   "source": [
    "print(m3.suivant)"
   ]
  },
  {
   "cell_type": "code",
   "execution_count": 26,
   "metadata": {},
   "outputs": [
    {
     "data": {},
     "execution_count": 26,
     "metadata": {},
     "output_type": "execute_result"
    }
   ],
   "source": [
    "m3.suivant is m2"
   ]
  },
  {
   "cell_type": "markdown",
   "metadata": {},
   "source": [
    "## La liste chainée (en POO)"
   ]
  },
  {
   "cell_type": "code",
   "execution_count": 27,
   "metadata": {},
   "outputs": [],
   "source": [
    "class Liste:\n",
    "    \n",
    "    def __init__(self):\n",
    "        self.maillon = None\n",
    "        \n",
    "    def est_vide(self):\n",
    "        return self.maillon == None\n",
    "        \n",
    "    def inserer(self, element):\n",
    "        # on crée un nouveau maillon avec la valeur element : [element]->[]\n",
    "        nv_maillon = Maillon(element)\n",
    "        # on pointe le maillon sur la liste (attribut maillon) : [element]->[*]->[*]->... comme L->[*]->[*]->...\n",
    "        nv_maillon.suivant = self.maillon\n",
    "        # on pointe la liste sur le nouveau maillon : L->[element]->...\n",
    "        self.maillon = nv_maillon\n",
    "        \n",
    "    def tete(self):\n",
    "        if not self.est_vide():\n",
    "            return self.maillon.valeur\n",
    "        \n",
    "    def queue(self):\n",
    "        # on crée une nouvelle liste qui sera la queue. La queue est une liste!\n",
    "        queue = Liste()\n",
    "        if not self.est_vide():\n",
    "            queue.maillon = self.maillon.suivant\n",
    "        return queue\n",
    "    \n",
    "    def __repr__(self):\n",
    "        if self.maillon == None:\n",
    "            return \"[]\"\n",
    "        else:\n",
    "            return str(self.maillon)"
   ]
  },
  {
   "cell_type": "markdown",
   "metadata": {},
   "source": [
    "## Application"
   ]
  },
  {
   "cell_type": "code",
   "execution_count": 109,
   "metadata": {},
   "outputs": [
    {
     "data": {},
     "execution_count": 109,
     "metadata": {},
     "output_type": "execute_result"
    }
   ],
   "source": [
    "# Fonction pour créer une liste vide\n",
    "# vérification avec la méthode est_vide\n",
    "\n",
    "def creer_liste():\n",
    "    return Liste()\n",
    "\n",
    "L = creer_liste()\n",
    "L.est_vide()"
   ]
  },
  {
   "cell_type": "code",
   "execution_count": 77,
   "metadata": {},
   "outputs": [],
   "source": [
    "L.inserer('a')\n",
    "L.inserer('e')\n",
    "L.inserer('i')\n",
    "L.inserer('o')\n",
    "L.inserer('u')"
   ]
  },
  {
   "cell_type": "code",
   "execution_count": 78,
   "metadata": {},
   "outputs": [
    {
     "name": "stdout",
     "output_type": "stream",
     "text": [
      "[u]->[o]->[i]->[e]->[a]->[]\n"
     ]
    }
   ],
   "source": [
    "print(L)"
   ]
  },
  {
   "cell_type": "code",
   "execution_count": 68,
   "metadata": {},
   "outputs": [
    {
     "name": "stdout",
     "output_type": "stream",
     "text": [
      "u\n",
      "o\n",
      "i\n",
      "e\n",
      "a\n"
     ]
    }
   ],
   "source": [
    "# Parcours de la liste chainée et affichage des valeurs.\n",
    "\n",
    "def parcourir(liste):\n",
    "    maillon = liste.maillon\n",
    "    while maillon != None:\n",
    "        print(maillon.valeur)\n",
    "        maillon = maillon.suivant\n",
    "        \n",
    "parcourir(L)"
   ]
  },
  {
   "cell_type": "code",
   "execution_count": 89,
   "metadata": {},
   "outputs": [
    {
     "data": {},
     "execution_count": 89,
     "metadata": {},
     "output_type": "execute_result"
    }
   ],
   "source": [
    "# Fonction longueur_liste qui renvoie le nombre d'éléments de la liste chainée.\n",
    "\n",
    "def longueur_liste(liste):\n",
    "    long = 0\n",
    "    while not liste.est_vide():\n",
    "        long += 1\n",
    "        liste = liste.queue()\n",
    "    return long\n",
    "\n",
    "longueur_liste(L)"
   ]
  },
  {
   "cell_type": "code",
   "execution_count": 95,
   "metadata": {},
   "outputs": [
    {
     "name": "stdout",
     "output_type": "stream",
     "text": [
      "[u]->[o]->[i]->[e]->[a]->[]\n",
      "u\n",
      "o\n",
      "i\n",
      "e\n",
      "a\n"
     ]
    }
   ],
   "source": [
    "# Fonction get_item qui renvoie la valeur de la liste chainée d'indice i\n",
    "\n",
    "def get_item(liste,i):\n",
    "    assert -1 < i < longueur_liste(liste), \"liste index erreur\"\n",
    "    if i == 0:\n",
    "        return liste.maillon.valeur\n",
    "    else:\n",
    "        maillon = liste.maillon\n",
    "        while maillon != None and i>0:\n",
    "            maillon = maillon.suivant\n",
    "            i -=1\n",
    "        return maillon.valeur\n",
    "\n",
    "print(L)\n",
    "for i in range(longueur_liste(L)):\n",
    "    print(get_item(L,i))"
   ]
  },
  {
   "cell_type": "code",
   "execution_count": 69,
   "metadata": {},
   "outputs": [
    {
     "name": "stdout",
     "output_type": "stream",
     "text": [
      "[a]->[e]->[i]->[o]->[u]->[]\n"
     ]
    }
   ],
   "source": [
    "# Inversion des éléments de la liste chainée.\n",
    "\n",
    "def renverse(liste):\n",
    "    NL = Liste()\n",
    "    maillon = liste.maillon\n",
    "    while not maillon == None:\n",
    "        NL.inserer(maillon.valeur)\n",
    "        maillon = maillon.suivant\n",
    "    return NL\n",
    "\n",
    "L = renverse(L)\n",
    "print(L)"
   ]
  },
  {
   "cell_type": "code",
   "execution_count": 72,
   "metadata": {},
   "outputs": [
    {
     "name": "stdout",
     "output_type": "stream",
     "text": [
      "[a]->[e]->[i]->[o]->[u]->[y]->[]\n"
     ]
    }
   ],
   "source": [
    "# Ajouter un élément à la fin de la liste chainée.\n",
    "\n",
    "def ajouter_fin(liste, element):\n",
    "    dernier_maillon = liste.maillon\n",
    "    while dernier_maillon.suivant != None:\n",
    "        dernier_maillon = dernier_maillon.suivant\n",
    "    dernier_maillon.suivant = Maillon(element)\n",
    "    \n",
    "ajouter_fin(L,'y')\n",
    "print(L)"
   ]
  },
  {
   "cell_type": "code",
   "execution_count": 110,
   "metadata": {},
   "outputs": [],
   "source": [
    "# Récriture de la classe LIste avec l'attribut last\n",
    "\n",
    "class Maillon:\n",
    "    def __init__(self, valeur=None, suivant=None):\n",
    "        self.valeur = valeur\n",
    "        self.suivant = suivant\n",
    "        \n",
    "    def __repr__(self):\n",
    "        if self.suivant is None:\n",
    "            return \"[\"+str(self.valeur)+\"]->\" +\"[]\"\n",
    "        else:\n",
    "            return \"[\"+str(self.valeur)+\"]->\" +str(self.suivant)\n",
    "\n",
    "class Liste:\n",
    "    \n",
    "    def __init__(self):\n",
    "        self.maillon = None\n",
    "        \n",
    "        # on ajoute l'attribut last\n",
    "        self.last = None\n",
    "        \n",
    "    def est_vide(self):\n",
    "        return self.maillon == None\n",
    "        \n",
    "    def inserer(self, element):\n",
    "        # on crée un nouveau maillon avec la valeur element : [element]->[]\n",
    "        nv_maillon = Maillon(element)\n",
    "        # on pointe le maillon sur la liste (attribut maillon) : [element]->[*]->[*]->... comme L->[*]->[*]->...\n",
    "        nv_maillon.suivant = self.maillon\n",
    "        # on pointe la liste sur le nouveau maillon : L->[element]->...\n",
    "        self.maillon = nv_maillon\n",
    "        \n",
    "        # puisqu'un élément est inséré, on modifie la valeur de last si il n'en a pas.\n",
    "        if self.last == None:\n",
    "            self.last = nv_maillon\n",
    "        \n",
    "    def tete(self):\n",
    "        if not self.est_vide():\n",
    "            return self.maillon.valeur\n",
    "        \n",
    "    def queue(self):\n",
    "        # on crée une nouvelle liste qui sera la queue. La queue est une liste!\n",
    "        queue = Liste()\n",
    "        if not self.est_vide():\n",
    "            queue.maillon = self.maillon.suivant\n",
    "        return queue\n",
    "    \n",
    "    def __repr__(self):\n",
    "        if self.maillon == None:\n",
    "            return \"[]\"\n",
    "        else:\n",
    "            return str(self.maillon)"
   ]
  },
  {
   "cell_type": "code",
   "execution_count": 111,
   "metadata": {},
   "outputs": [
    {
     "data": {},
     "execution_count": 111,
     "metadata": {},
     "output_type": "execute_result"
    }
   ],
   "source": [
    "def creer_liste():\n",
    "    return Liste()\n",
    "\n",
    "L = creer_liste()\n",
    "L.est_vide()"
   ]
  },
  {
   "cell_type": "code",
   "execution_count": 112,
   "metadata": {},
   "outputs": [],
   "source": [
    "L.inserer('a')\n",
    "L.inserer('e')\n",
    "L.inserer('i')\n",
    "L.inserer('o')\n",
    "L.inserer('u')"
   ]
  },
  {
   "cell_type": "code",
   "execution_count": 113,
   "metadata": {},
   "outputs": [
    {
     "name": "stdout",
     "output_type": "stream",
     "text": [
      "[u]->[o]->[i]->[e]->[a]->[]\n"
     ]
    }
   ],
   "source": [
    "print(L)"
   ]
  },
  {
   "cell_type": "code",
   "execution_count": 114,
   "metadata": {},
   "outputs": [
    {
     "data": {},
     "execution_count": 114,
     "metadata": {},
     "output_type": "execute_result"
    }
   ],
   "source": [
    "L.last"
   ]
  },
  {
   "cell_type": "code",
   "execution_count": 115,
   "metadata": {},
   "outputs": [
    {
     "name": "stdout",
     "output_type": "stream",
     "text": [
      "[u]->[o]->[i]->[e]->[a]->[y]->[]\n"
     ]
    }
   ],
   "source": [
    "def ajouter_fin(liste, element):\n",
    "    dernier_maillon = Maillon(element)\n",
    "    liste.last.suivant = dernier_maillon\n",
    "    liste.last = dernier_maillon\n",
    "    \n",
    "ajouter_fin(L,'y')\n",
    "print(L)"
   ]
  },
  {
   "cell_type": "code",
   "execution_count": 116,
   "metadata": {},
   "outputs": [
    {
     "data": {},
     "execution_count": 116,
     "metadata": {},
     "output_type": "execute_result"
    }
   ],
   "source": [
    "L.last"
   ]
  }
 ],
 "metadata": {
  "kernelspec": {
   "display_name": "Python 3",
   "language": "python",
   "name": "python3"
  },
  "language_info": {
   "codemirror_mode": {
    "name": "ipython",
    "version": 3
   },
   "file_extension": ".py",
   "mimetype": "text/x-python",
   "name": "python",
   "nbconvert_exporter": "python",
   "pygments_lexer": "ipython3",
   "version": "3.9.4"
  }
 },
 "nbformat": 4,
 "nbformat_minor": 2
}
