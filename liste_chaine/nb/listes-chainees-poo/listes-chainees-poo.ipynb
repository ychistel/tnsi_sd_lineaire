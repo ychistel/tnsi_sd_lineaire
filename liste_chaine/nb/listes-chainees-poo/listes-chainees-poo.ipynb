{
 "cells": [
  {
   "cell_type": "code",
   "execution_count": 98,
   "metadata": {},
   "outputs": [],
   "source": [
    "class Maillon:\n",
    "    def __init__(self, valeur=None, suivant=None):\n",
    "        self.valeur = valeur\n",
    "        self.suivant = suivant\n",
    "        \n",
    "    def __repr__(self):\n",
    "        if self.suivant is None:\n",
    "            return \"[\"+str(self.valeur)+\"]->\" + \"[]\"\n",
    "        else:\n",
    "            return \"[\"+str(self.valeur)+\"]->\" +str(self.suivant)\n",
    "        \n",
    "class Liste:\n",
    "    \n",
    "    def __init__(self):\n",
    "        self.maillon = None\n",
    "        \n",
    "    def est_vide(self):\n",
    "        return self.maillon == None\n",
    "    \n",
    "    def tete(self):\n",
    "        if not self.est_vide():\n",
    "            return self.maillon.valeur\n",
    "        \n",
    "    def queue(self):\n",
    "        q = Liste()\n",
    "        if not self.est_vide():\n",
    "            q.maillon = self.maillon.suivant\n",
    "        return q\n",
    "    \n",
    "    def inserer(self,element):\n",
    "        nv_maillon = Maillon(element)\n",
    "        nv_maillon.suivant = self.maillon\n",
    "        self.maillon = nv_maillon\n",
    "        \n",
    "    def __repr__(self):\n",
    "        if self.maillon == None:\n",
    "            return \"[]\"\n",
    "        else:\n",
    "            return str(self.maillon)"
   ]
  },
  {
   "cell_type": "code",
   "execution_count": 28,
   "metadata": {},
   "outputs": [
    {
     "name": "stdout",
     "output_type": "stream",
     "text": [
      "[3]->[]\n",
      "[5]->[3]->[]\n",
      "[8]->[5]->[3]->[]\n"
     ]
    }
   ],
   "source": [
    "m1 = Maillon(3)\n",
    "m2 = Maillon(5,m1)\n",
    "m3 = Maillon(8,m2)\n",
    "\n",
    "print(m1)\n",
    "print(m2)\n",
    "print(m3)"
   ]
  },
  {
   "cell_type": "code",
   "execution_count": 29,
   "metadata": {},
   "outputs": [
    {
     "name": "stdout",
     "output_type": "stream",
     "text": [
      "[1]->[]\n"
     ]
    }
   ],
   "source": [
    "m = Maillon(1)\n",
    "print(m)"
   ]
  },
  {
   "cell_type": "code",
   "execution_count": 30,
   "metadata": {},
   "outputs": [
    {
     "name": "stdout",
     "output_type": "stream",
     "text": [
      "[8]->[1]->[5]->[3]->[]\n"
     ]
    }
   ],
   "source": [
    "m.suivant=m2\n",
    "m3.suivant=m\n",
    "print(m3)"
   ]
  },
  {
   "cell_type": "code",
   "execution_count": 85,
   "metadata": {},
   "outputs": [
    {
     "data": {
      "text/plain": [
       "True"
      ]
     },
     "execution_count": 85,
     "metadata": {},
     "output_type": "execute_result"
    }
   ],
   "source": [
    "L = Liste()\n",
    "L.est_vide()"
   ]
  },
  {
   "cell_type": "code",
   "execution_count": 100,
   "metadata": {},
   "outputs": [
    {
     "name": "stdout",
     "output_type": "stream",
     "text": [
      "[7]->[5]->[3]->[]\n"
     ]
    }
   ],
   "source": [
    "L = Liste()\n",
    "L.inserer(3)\n",
    "L.inserer(5)\n",
    "L.inserer(7)\n",
    "print(L)"
   ]
  },
  {
   "cell_type": "code",
   "execution_count": null,
   "metadata": {},
   "outputs": [],
   "source": []
  }
 ],
 "metadata": {
  "kernelspec": {
   "display_name": "Python 3",
   "language": "python",
   "name": "python3"
  }
 },
 "nbformat": 4,
 "nbformat_minor": 2
}
